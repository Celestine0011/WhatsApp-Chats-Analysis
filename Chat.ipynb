{
 "cells": [
  {
   "cell_type": "code",
   "execution_count": 1,
   "metadata": {},
   "outputs": [],
   "source": [
    "import re\n",
    "import regex\n",
    "import pandas as pd\n",
    "import numpy as np\n",
    "import emoji\n",
    "import plotly.express as px\n",
    "from emoji import EMOJI_DATA\n",
    "from collections import Counter\n",
    "import matplotlib.pyplot as plt\n",
    "from os import path\n",
    "from PIL import Image\n",
    "import datetime\n",
    "from wordcloud import WordCloud, STOPWORDS, ImageColorGenerator\n",
    "%matplotlib inline"
   ]
  },
  {
   "cell_type": "code",
   "execution_count": 2,
   "metadata": {},
   "outputs": [],
   "source": [
    "def startsWithDateAndTimeAndroid(s):\n",
    "    pattern = '^([0-9]+)(\\/)([0-9]+)(\\/)([0-9]+), ([0-9]+):([0-9]+)[ ]?(AM|PM|am|pm)? -' #pattern for date and time\n",
    "    result = re.match(pattern, s) \n",
    "    if result:\n",
    "        return True\n",
    "    return False\n",
    "\n"
   ]
  },
  {
   "cell_type": "code",
   "execution_count": 3,
   "metadata": {},
   "outputs": [],
   "source": [
    "def FindAuthor(s):\n",
    "    s=s.split(\":\") #After author name, a message starts. So, to get an author, we have to split the message by:\n",
    "    if len(s)==2:\n",
    "        return True\n",
    "    else:\n",
    "        return False"
   ]
  },
  {
   "cell_type": "code",
   "execution_count": 4,
   "metadata": {},
   "outputs": [],
   "source": [
    "def getDataPointAndroid(line):   \n",
    "    splitLine = line.split(' - ') \n",
    "    dateTime = splitLine[0]\n",
    "    date, time = dateTime.split(', ') \n",
    "    message = ' '.join(splitLine[1:])\n",
    "    if FindAuthor(message): \n",
    "        splitMessage = message.split(':') \n",
    "        author = splitMessage[0] \n",
    "        message = ' '.join(splitMessage[1:])\n",
    "    else:\n",
    "        author = None\n",
    "    return date, time, author, message"
   ]
  },
  {
   "cell_type": "code",
   "execution_count": 5,
   "metadata": {},
   "outputs": [],
   "source": [
    "def getDataPointios(line):\n",
    "    splitLine = line.split('] ')\n",
    "    dateTime = splitLine[0]\n",
    "    if ',' in dateTime:\n",
    "        date, time = dateTime.split(',')\n",
    "    else:\n",
    "        date, time = dateTime.split(' ')\n",
    "    message = ' '.join(splitLine[1:])\n",
    "    if FindAuthor(message):\n",
    "        splitMessage = message.split(':')\n",
    "        author = splitMessage[0]\n",
    "        message = ' '.join(splitMessage[1:])\n",
    "    else:\n",
    "        author = None\n",
    "    if time[5]==\":\":\n",
    "        time = time[:5]+time[-3:]\n",
    "    else:\n",
    "        if 'AM' in time or 'PM' in time:\n",
    "            time = time[:6]+time[-3:]\n",
    "        else:\n",
    "            time = time[:6]\n",
    "    return date, time, author, message"
   ]
  },
  {
   "cell_type": "code",
   "execution_count": 6,
   "metadata": {},
   "outputs": [],
   "source": [
    "def split_count(text):\n",
    "\n",
    "    emoji_list = []\n",
    "    data = regex.findall(r'\\X', text)\n",
    "    for word in data:\n",
    "        if any(char in emoji.EMOJI_DATA for char in word):\n",
    "            emoji_list.append(word)\n",
    "\n",
    "    return emoji_list"
   ]
  },
  {
   "cell_type": "code",
   "execution_count": 7,
   "metadata": {},
   "outputs": [
    {
     "name": "stdout",
     "output_type": "stream",
     "text": [
      "13/09/2022, 14:47 - Messages and calls are end-to-end encrypted. No one outside of this chat, not even WhatsApp, can read or listen to them. Tap to learn more.\n",
      "\n"
     ]
    }
   ],
   "source": [
    "parsedData = [] # List to keep track of data so it can be used by a Pandas dataframe\n",
    "conversationPath = 'C:\\\\Users\\\\USER\\\\Documents\\\\MY PROJECTS\\\\DATALEUM\\\\Data\\\\GTTP.txt' \n",
    "with open(conversationPath, encoding=\"utf-8\") as fp:\n",
    "    device=''\n",
    "    first=fp.readline()\n",
    "    print(first)\n",
    "    if '[' in first:\n",
    "      device='ios'\n",
    "    else:\n",
    "      device=\"android\"\n",
    "    fp.readline() \n",
    "    messageBuffer = [] \n",
    "    date, time, author = None, None, None #message contains 4 things-\"date\",\"time\",\"author\",\"message\" \n",
    "    while True:\n",
    "        line = fp.readline() \n",
    "        if not line: \n",
    "            break\n",
    "        if device==\"ios\":\n",
    "          line = line.strip()\n",
    "          if startsWithDateAndTimeios(line):\n",
    "            if len(messageBuffer) > 0:\n",
    "              parsedData.append([date, time, author, ' '.join(messageBuffer)])\n",
    "            messageBuffer.clear()\n",
    "            date, time, author, message = getDataPointios(line)\n",
    "            messageBuffer.append(message)\n",
    "          else:\n",
    "            line= (line.encode('ascii', 'ignore')).decode(\"utf-8\")\n",
    "            if startsWithDateAndTimeios(line):\n",
    "              if len(messageBuffer) > 0:\n",
    "                parsedData.append([date, time, author, ' '.join(messageBuffer)])\n",
    "              messageBuffer.clear()\n",
    "              date, time, author, message = getDataPointios(line)\n",
    "              messageBuffer.append(message)\n",
    "            else:\n",
    "              messageBuffer.append(line)\n",
    "        else:\n",
    "          line = line.strip()\n",
    "          if startsWithDateAndTimeAndroid(line): \n",
    "            if len(messageBuffer) > 0:\n",
    "              parsedData.append([date, time, author, ' '.join(messageBuffer)])\n",
    "            messageBuffer.clear()\n",
    "            date, time, author, message = getDataPointAndroid(line)\n",
    "            messageBuffer.append(message)\n",
    "          else:\n",
    "            messageBuffer.append(line)"
   ]
  },
  {
   "cell_type": "code",
   "execution_count": 8,
   "metadata": {},
   "outputs": [],
   "source": [
    "if device =='android':\n",
    "        df = pd.DataFrame(parsedData, columns=['Date', 'Time', 'Author', 'Message'])\n",
    "        df[\"Date\"] = pd.to_datetime(df[\"Date\"])\n",
    "        df = df.dropna()\n",
    "        df[\"emoji\"] = df[\"Message\"].apply(split_count)\n",
    "        URLPATTERN = r'(https?://\\S+)'\n",
    "        df['urlcount'] = df.Message.apply(lambda x: re.findall(URLPATTERN, x)).str.len()\n",
    "else:\n",
    "        df = pd.DataFrame(parsedData, columns=['Date', 'Time', 'Author', 'Message']) # Initialising a pandas Dataframe.\n",
    "        df = df.dropna()\n",
    "        df[\"Date\"] = df[\"Date\"].apply(dateconv)\n",
    "        df[\"Date\"] = pd.to_datetime(df[\"Date\"],format='%Y-%m-%d')\n",
    "        df[\"emoji\"] = df[\"Message\"].apply(split_count)\n",
    "        URLPATTERN = r'(https?://\\S+)'\n",
    "        df['urlcount'] = df.Message.apply(lambda x: re.findall(URLPATTERN, x)).str.len()"
   ]
  },
  {
   "cell_type": "code",
   "execution_count": 9,
   "metadata": {},
   "outputs": [
    {
     "data": {
      "text/html": [
       "<div>\n",
       "<style scoped>\n",
       "    .dataframe tbody tr th:only-of-type {\n",
       "        vertical-align: middle;\n",
       "    }\n",
       "\n",
       "    .dataframe tbody tr th {\n",
       "        vertical-align: top;\n",
       "    }\n",
       "\n",
       "    .dataframe thead th {\n",
       "        text-align: right;\n",
       "    }\n",
       "</style>\n",
       "<table border=\"1\" class=\"dataframe\">\n",
       "  <thead>\n",
       "    <tr style=\"text-align: right;\">\n",
       "      <th></th>\n",
       "      <th>Date</th>\n",
       "      <th>Time</th>\n",
       "      <th>Author</th>\n",
       "      <th>Message</th>\n",
       "      <th>emoji</th>\n",
       "      <th>urlcount</th>\n",
       "    </tr>\n",
       "  </thead>\n",
       "  <tbody>\n",
       "    <tr>\n",
       "      <th>4</th>\n",
       "      <td>2022-09-13</td>\n",
       "      <td>14:47</td>\n",
       "      <td>+234 816 555 0428</td>\n",
       "      <td>Good Afternoon Group</td>\n",
       "      <td>[]</td>\n",
       "      <td>0</td>\n",
       "    </tr>\n",
       "    <tr>\n",
       "      <th>17</th>\n",
       "      <td>2022-09-13</td>\n",
       "      <td>15:04</td>\n",
       "      <td>+234 813 811 5975</td>\n",
       "      <td>Good afternoon</td>\n",
       "      <td>[]</td>\n",
       "      <td>0</td>\n",
       "    </tr>\n",
       "  </tbody>\n",
       "</table>\n",
       "</div>"
      ],
      "text/plain": [
       "         Date   Time             Author                Message emoji  urlcount\n",
       "4  2022-09-13  14:47  +234 816 555 0428   Good Afternoon Group    []         0\n",
       "17 2022-09-13  15:04  +234 813 811 5975         Good afternoon    []         0"
      ]
     },
     "execution_count": 9,
     "metadata": {},
     "output_type": "execute_result"
    }
   ],
   "source": [
    "df.head(2) #return first two rows of dataframe\n"
   ]
  },
  {
   "cell_type": "code",
   "execution_count": 10,
   "metadata": {},
   "outputs": [
    {
     "name": "stdout",
     "output_type": "stream",
     "text": [
      "<class 'pandas.core.frame.DataFrame'>\n",
      "Int64Index: 2695 entries, 4 to 2828\n",
      "Data columns (total 6 columns):\n",
      " #   Column    Non-Null Count  Dtype         \n",
      "---  ------    --------------  -----         \n",
      " 0   Date      2695 non-null   datetime64[ns]\n",
      " 1   Time      2695 non-null   object        \n",
      " 2   Author    2695 non-null   object        \n",
      " 3   Message   2695 non-null   object        \n",
      " 4   emoji     2695 non-null   object        \n",
      " 5   urlcount  2695 non-null   int64         \n",
      "dtypes: datetime64[ns](1), int64(1), object(4)\n",
      "memory usage: 147.4+ KB\n"
     ]
    }
   ],
   "source": [
    "df.info() #statistics of the group chat"
   ]
  },
  {
   "cell_type": "code",
   "execution_count": 11,
   "metadata": {},
   "outputs": [
    {
     "data": {
      "text/plain": [
       "array(['+234 816 555 0428', '+234 813 811 5975', '+234 806 691 9561',\n",
       "       '+234 816 458 3514', '+234 701 603 0958', '+234 803 970 8243',\n",
       "       '+234 816 656 5441', '+234 703 023 7698', '+234 803 388 9558',\n",
       "       '+234 706 932 9298', '+234 803 239 7679', '+234 706 055 3660',\n",
       "       '+234 803 466 6408', '+234 803 515 4843', '+234 813 741 9269',\n",
       "       '+234 814 166 4393', '+234 808 662 6950', '+234 703 043 1697',\n",
       "       '+234 810 975 0409', '+234 706 248 9122', 'Cynthia Dataleum',\n",
       "       'Bode Dataleum', '+234 701 062 0091', '+234 809 650 6571',\n",
       "       '+234 817 595 7252', 'Tochi Dataleum', 'Lestyn🦅',\n",
       "       '+234 701 992 1069', 'Esther Adewumi Dataleum',\n",
       "       '+234 811 352 8665', '+234 815 337 9058', 'Adebimpe Dataleum GTT',\n",
       "       'Ugo Henry', '+234 805 415 9202', '+234 708 733 7956',\n",
       "       '+234 816 896 7844', '+234 812 598 8360', '+234 701 363 4674',\n",
       "       '+234 815 799 9531', 'Racheal dataleum', '+234 803 810 7436',\n",
       "       'Boluwatife Dataleum', '+234 817 993 9944', '+234 808 574 8262',\n",
       "       '+234 810 410 6657', '+234 902 328 8618', '+234 902 765 9738',\n",
       "       '+234 816 964 8810', '+234 810 479 3228', '+234 809 326 6566',\n",
       "       '+234 816 591 7304', '+234 812 904 8668', '+234 810 583 5790',\n",
       "       '+234 816 419 2296', '+234 810 529 8145', '+234 806 755 0665',\n",
       "       '+234 806 295 6139', '+234 807 448 5950', '+234 708 304 6964',\n",
       "       '+234 907 886 1397', '+234 805 404 8814', '+234 813 193 7604',\n",
       "       '+234 703 206 0301', '+234 703 213 4554', '+234 805 395 4175',\n",
       "       '+234 701 199 3148', '+234 812 692 8167', '+234 806 084 5345',\n",
       "       '+234 701 925 5419', '+234 808 820 9237', '+234 802 141 3017',\n",
       "       'Mr. Reuben Dataleum', 'Dataleum', '+234 706 388 1739'],\n",
       "      dtype=object)"
      ]
     },
     "execution_count": 11,
     "metadata": {},
     "output_type": "execute_result"
    }
   ],
   "source": [
    "df.Author.unique() #returns all unique athors means all members of group"
   ]
  },
  {
   "cell_type": "code",
   "execution_count": 12,
   "metadata": {},
   "outputs": [
    {
     "name": "stdout",
     "output_type": "stream",
     "text": [
      "<class 'pandas.core.frame.DataFrame'>\n",
      "Int64Index: 2695 entries, 4 to 2828\n",
      "Data columns (total 6 columns):\n",
      " #   Column    Non-Null Count  Dtype         \n",
      "---  ------    --------------  -----         \n",
      " 0   Date      2695 non-null   datetime64[ns]\n",
      " 1   Time      2695 non-null   object        \n",
      " 2   Author    2695 non-null   object        \n",
      " 3   Message   2695 non-null   object        \n",
      " 4   emoji     2695 non-null   object        \n",
      " 5   urlcount  2695 non-null   int64         \n",
      "dtypes: datetime64[ns](1), int64(1), object(4)\n",
      "memory usage: 147.4+ KB\n"
     ]
    }
   ],
   "source": [
    "df = df.dropna() #drops all null values\n",
    "df.info()"
   ]
  },
  {
   "cell_type": "code",
   "execution_count": 13,
   "metadata": {},
   "outputs": [
    {
     "name": "stdout",
     "output_type": "stream",
     "text": [
      "2695\n"
     ]
    }
   ],
   "source": [
    "total_messages = df.shape[0]\n",
    "print(total_messages)"
   ]
  },
  {
   "cell_type": "code",
   "execution_count": 14,
   "metadata": {},
   "outputs": [
    {
     "name": "stdout",
     "output_type": "stream",
     "text": [
      "0\n"
     ]
    }
   ],
   "source": [
    "media_messages = df[df['Message'] == '<Media omitted>'].shape[0]\n",
    "print(media_messages)"
   ]
  },
  {
   "cell_type": "code",
   "execution_count": 15,
   "metadata": {},
   "outputs": [
    {
     "name": "stdout",
     "output_type": "stream",
     "text": [
      "783\n"
     ]
    }
   ],
   "source": [
    "emojis = sum(df['emoji'].str.len()) \n",
    "print(emojis)"
   ]
  },
  {
   "cell_type": "code",
   "execution_count": 16,
   "metadata": {},
   "outputs": [
    {
     "name": "stdout",
     "output_type": "stream",
     "text": [
      "59\n"
     ]
    }
   ],
   "source": [
    "URLPATTERN = r'(https?://\\S+)' #regex pattern matching with start with https\n",
    "df['urlcount'] = df.Message.apply(lambda x: re.findall(URLPATTERN, x)).str.len() #return url which matches with pattern and count it through lambda function\n",
    "links = np.sum(df.urlcount) #sumup all the links\n",
    "print(links)"
   ]
  },
  {
   "cell_type": "markdown",
   "metadata": {},
   "source": [
    "## Let us separate media messages and text messages"
   ]
  },
  {
   "cell_type": "code",
   "execution_count": 32,
   "metadata": {},
   "outputs": [],
   "source": [
    "link_messages= df[df['urlcount']>0]\n",
    "deleted_messages=df[(df[\"Message\"] == \" You deleted this message\")| (df[\"Message\"] == \" This message was deleted.\")]\n",
    "media_messages_df = df[(df['Message'] == ' <Media omitted>')|(df['Message'] == ' image omitted')|(df['Message'] == ' video omitted')|(df['Message'] == ' sticker omitted')]\n",
    "messages_df = df.drop(media_messages_df.index)\n",
    "messages_df = messages_df.drop(deleted_messages.index)\n",
    "#messages_df = messages_df.drop(link_messages.index)"
   ]
  },
  {
   "cell_type": "code",
   "execution_count": 33,
   "metadata": {},
   "outputs": [
    {
     "name": "stdout",
     "output_type": "stream",
     "text": [
      "<class 'pandas.core.frame.DataFrame'>\n",
      "Int64Index: 2461 entries, 4 to 2828\n",
      "Data columns (total 6 columns):\n",
      " #   Column    Non-Null Count  Dtype         \n",
      "---  ------    --------------  -----         \n",
      " 0   Date      2461 non-null   datetime64[ns]\n",
      " 1   Time      2461 non-null   object        \n",
      " 2   Author    2461 non-null   object        \n",
      " 3   Message   2461 non-null   object        \n",
      " 4   emoji     2461 non-null   object        \n",
      " 5   urlcount  2461 non-null   int64         \n",
      "dtypes: datetime64[ns](1), int64(1), object(4)\n",
      "memory usage: 134.6+ KB\n"
     ]
    }
   ],
   "source": [
    "messages_df.info()\n"
   ]
  },
  {
   "cell_type": "markdown",
   "metadata": {},
   "source": [
    "## Now let's calculate words and letters "
   ]
  },
  {
   "cell_type": "code",
   "execution_count": 34,
   "metadata": {},
   "outputs": [],
   "source": [
    "messages_df['Letter_Count'] = messages_df['Message'].apply(lambda s : len(s))\n",
    "messages_df['Word_Count'] = messages_df['Message'].apply(lambda s : len(s.split(' '))) #word is calculated by spliting sentence by whitespace\n",
    "messages_df[\"MessageCount\"]=1"
   ]
  },
  {
   "cell_type": "code",
   "execution_count": 35,
   "metadata": {},
   "outputs": [
    {
     "data": {
      "text/html": [
       "<div>\n",
       "<style scoped>\n",
       "    .dataframe tbody tr th:only-of-type {\n",
       "        vertical-align: middle;\n",
       "    }\n",
       "\n",
       "    .dataframe tbody tr th {\n",
       "        vertical-align: top;\n",
       "    }\n",
       "\n",
       "    .dataframe thead th {\n",
       "        text-align: right;\n",
       "    }\n",
       "</style>\n",
       "<table border=\"1\" class=\"dataframe\">\n",
       "  <thead>\n",
       "    <tr style=\"text-align: right;\">\n",
       "      <th></th>\n",
       "      <th>Date</th>\n",
       "      <th>Time</th>\n",
       "      <th>Author</th>\n",
       "      <th>Message</th>\n",
       "      <th>emoji</th>\n",
       "      <th>urlcount</th>\n",
       "      <th>Letter_Count</th>\n",
       "      <th>Word_Count</th>\n",
       "      <th>MessageCount</th>\n",
       "    </tr>\n",
       "  </thead>\n",
       "  <tbody>\n",
       "    <tr>\n",
       "      <th>4</th>\n",
       "      <td>2022-09-13</td>\n",
       "      <td>14:47</td>\n",
       "      <td>+234 816 555 0428</td>\n",
       "      <td>Good Afternoon Group</td>\n",
       "      <td>[]</td>\n",
       "      <td>0</td>\n",
       "      <td>21</td>\n",
       "      <td>4</td>\n",
       "      <td>1</td>\n",
       "    </tr>\n",
       "    <tr>\n",
       "      <th>17</th>\n",
       "      <td>2022-09-13</td>\n",
       "      <td>15:04</td>\n",
       "      <td>+234 813 811 5975</td>\n",
       "      <td>Good afternoon</td>\n",
       "      <td>[]</td>\n",
       "      <td>0</td>\n",
       "      <td>15</td>\n",
       "      <td>3</td>\n",
       "      <td>1</td>\n",
       "    </tr>\n",
       "    <tr>\n",
       "      <th>19</th>\n",
       "      <td>2022-09-13</td>\n",
       "      <td>15:05</td>\n",
       "      <td>+234 806 691 9561</td>\n",
       "      <td>Greetings</td>\n",
       "      <td>[]</td>\n",
       "      <td>0</td>\n",
       "      <td>10</td>\n",
       "      <td>2</td>\n",
       "      <td>1</td>\n",
       "    </tr>\n",
       "    <tr>\n",
       "      <th>20</th>\n",
       "      <td>2022-09-13</td>\n",
       "      <td>15:07</td>\n",
       "      <td>+234 816 458 3514</td>\n",
       "      <td>Good afternoon</td>\n",
       "      <td>[]</td>\n",
       "      <td>0</td>\n",
       "      <td>15</td>\n",
       "      <td>3</td>\n",
       "      <td>1</td>\n",
       "    </tr>\n",
       "    <tr>\n",
       "      <th>22</th>\n",
       "      <td>2022-09-13</td>\n",
       "      <td>15:13</td>\n",
       "      <td>+234 701 603 0958</td>\n",
       "      <td>Hello everyone, good afternoon.  Trust the we...</td>\n",
       "      <td>[]</td>\n",
       "      <td>0</td>\n",
       "      <td>966</td>\n",
       "      <td>172</td>\n",
       "      <td>1</td>\n",
       "    </tr>\n",
       "    <tr>\n",
       "      <th>31</th>\n",
       "      <td>2022-09-15</td>\n",
       "      <td>03:08</td>\n",
       "      <td>+234 803 970 8243</td>\n",
       "      <td>I Didn’t get any mail</td>\n",
       "      <td>[]</td>\n",
       "      <td>0</td>\n",
       "      <td>22</td>\n",
       "      <td>6</td>\n",
       "      <td>1</td>\n",
       "    </tr>\n",
       "    <tr>\n",
       "      <th>32</th>\n",
       "      <td>2022-09-15</td>\n",
       "      <td>06:44</td>\n",
       "      <td>+234 816 656 5441</td>\n",
       "      <td>What email please</td>\n",
       "      <td>[]</td>\n",
       "      <td>0</td>\n",
       "      <td>18</td>\n",
       "      <td>4</td>\n",
       "      <td>1</td>\n",
       "    </tr>\n",
       "    <tr>\n",
       "      <th>33</th>\n",
       "      <td>2022-09-15</td>\n",
       "      <td>09:54</td>\n",
       "      <td>+234 703 023 7698</td>\n",
       "      <td>Good morning admin Pls what is d last day for...</td>\n",
       "      <td>[]</td>\n",
       "      <td>0</td>\n",
       "      <td>54</td>\n",
       "      <td>12</td>\n",
       "      <td>1</td>\n",
       "    </tr>\n",
       "    <tr>\n",
       "      <th>34</th>\n",
       "      <td>2022-09-15</td>\n",
       "      <td>09:58</td>\n",
       "      <td>+234 803 388 9558</td>\n",
       "      <td>I thought they said yesterday? Although the m...</td>\n",
       "      <td>[]</td>\n",
       "      <td>0</td>\n",
       "      <td>69</td>\n",
       "      <td>12</td>\n",
       "      <td>1</td>\n",
       "    </tr>\n",
       "    <tr>\n",
       "      <th>35</th>\n",
       "      <td>2022-09-15</td>\n",
       "      <td>09:59</td>\n",
       "      <td>+234 803 388 9558</td>\n",
       "      <td>SO I beleive they should still be able to giv...</td>\n",
       "      <td>[]</td>\n",
       "      <td>0</td>\n",
       "      <td>66</td>\n",
       "      <td>15</td>\n",
       "      <td>1</td>\n",
       "    </tr>\n",
       "    <tr>\n",
       "      <th>36</th>\n",
       "      <td>2022-09-15</td>\n",
       "      <td>09:59</td>\n",
       "      <td>+234 706 932 9298</td>\n",
       "      <td>Can it be extended to tomorrow</td>\n",
       "      <td>[]</td>\n",
       "      <td>0</td>\n",
       "      <td>31</td>\n",
       "      <td>7</td>\n",
       "      <td>1</td>\n",
       "    </tr>\n",
       "    <tr>\n",
       "      <th>37</th>\n",
       "      <td>2022-09-15</td>\n",
       "      <td>10:00</td>\n",
       "      <td>+234 803 388 9558</td>\n",
       "      <td>Reach out to @2347016030958 Hehita pls</td>\n",
       "      <td>[]</td>\n",
       "      <td>0</td>\n",
       "      <td>39</td>\n",
       "      <td>7</td>\n",
       "      <td>1</td>\n",
       "    </tr>\n",
       "    <tr>\n",
       "      <th>38</th>\n",
       "      <td>2022-09-15</td>\n",
       "      <td>10:00</td>\n",
       "      <td>+234 803 239 7679</td>\n",
       "      <td>Today is 15th not yesterday</td>\n",
       "      <td>[]</td>\n",
       "      <td>0</td>\n",
       "      <td>28</td>\n",
       "      <td>6</td>\n",
       "      <td>1</td>\n",
       "    </tr>\n",
       "    <tr>\n",
       "      <th>39</th>\n",
       "      <td>2022-09-15</td>\n",
       "      <td>10:14</td>\n",
       "      <td>+234 803 970 8243</td>\n",
       "      <td>For payment</td>\n",
       "      <td>[]</td>\n",
       "      <td>0</td>\n",
       "      <td>12</td>\n",
       "      <td>3</td>\n",
       "      <td>1</td>\n",
       "    </tr>\n",
       "    <tr>\n",
       "      <th>40</th>\n",
       "      <td>2022-09-15</td>\n",
       "      <td>10:32</td>\n",
       "      <td>+234 703 023 7698</td>\n",
       "      <td>Yes</td>\n",
       "      <td>[]</td>\n",
       "      <td>0</td>\n",
       "      <td>4</td>\n",
       "      <td>2</td>\n",
       "      <td>1</td>\n",
       "    </tr>\n",
       "    <tr>\n",
       "      <th>43</th>\n",
       "      <td>2022-09-15</td>\n",
       "      <td>11:49</td>\n",
       "      <td>+234 706 055 3660</td>\n",
       "      <td>Is the training gonna b virtual or physical?</td>\n",
       "      <td>[]</td>\n",
       "      <td>0</td>\n",
       "      <td>45</td>\n",
       "      <td>9</td>\n",
       "      <td>1</td>\n",
       "    </tr>\n",
       "    <tr>\n",
       "      <th>44</th>\n",
       "      <td>2022-09-15</td>\n",
       "      <td>11:49</td>\n",
       "      <td>+234 806 691 9561</td>\n",
       "      <td>Both</td>\n",
       "      <td>[]</td>\n",
       "      <td>0</td>\n",
       "      <td>5</td>\n",
       "      <td>2</td>\n",
       "      <td>1</td>\n",
       "    </tr>\n",
       "    <tr>\n",
       "      <th>45</th>\n",
       "      <td>2022-09-15</td>\n",
       "      <td>11:56</td>\n",
       "      <td>+234 816 656 5441</td>\n",
       "      <td>How many people got email from Lagos state</td>\n",
       "      <td>[]</td>\n",
       "      <td>0</td>\n",
       "      <td>43</td>\n",
       "      <td>9</td>\n",
       "      <td>1</td>\n",
       "    </tr>\n",
       "    <tr>\n",
       "      <th>46</th>\n",
       "      <td>2022-09-15</td>\n",
       "      <td>12:00</td>\n",
       "      <td>+234 803 466 6408</td>\n",
       "      <td>☝️</td>\n",
       "      <td>[☝️]</td>\n",
       "      <td>0</td>\n",
       "      <td>3</td>\n",
       "      <td>2</td>\n",
       "      <td>1</td>\n",
       "    </tr>\n",
       "    <tr>\n",
       "      <th>47</th>\n",
       "      <td>2022-09-15</td>\n",
       "      <td>12:00</td>\n",
       "      <td>+234 803 515 4843</td>\n",
       "      <td>👆</td>\n",
       "      <td>[👆]</td>\n",
       "      <td>0</td>\n",
       "      <td>2</td>\n",
       "      <td>2</td>\n",
       "      <td>1</td>\n",
       "    </tr>\n",
       "    <tr>\n",
       "      <th>48</th>\n",
       "      <td>2022-09-15</td>\n",
       "      <td>12:00</td>\n",
       "      <td>+234 813 741 9269</td>\n",
       "      <td>☝🏼</td>\n",
       "      <td>[☝🏼]</td>\n",
       "      <td>0</td>\n",
       "      <td>3</td>\n",
       "      <td>2</td>\n",
       "      <td>1</td>\n",
       "    </tr>\n",
       "    <tr>\n",
       "      <th>49</th>\n",
       "      <td>2022-09-15</td>\n",
       "      <td>12:00</td>\n",
       "      <td>+234 814 166 4393</td>\n",
       "      <td>🙌🏽</td>\n",
       "      <td>[🙌🏽]</td>\n",
       "      <td>0</td>\n",
       "      <td>3</td>\n",
       "      <td>2</td>\n",
       "      <td>1</td>\n",
       "    </tr>\n",
       "    <tr>\n",
       "      <th>50</th>\n",
       "      <td>2022-09-15</td>\n",
       "      <td>12:02</td>\n",
       "      <td>+234 808 662 6950</td>\n",
       "      <td>👆</td>\n",
       "      <td>[👆]</td>\n",
       "      <td>0</td>\n",
       "      <td>2</td>\n",
       "      <td>2</td>\n",
       "      <td>1</td>\n",
       "    </tr>\n",
       "    <tr>\n",
       "      <th>51</th>\n",
       "      <td>2022-09-15</td>\n",
       "      <td>12:03</td>\n",
       "      <td>+234 806 691 9561</td>\n",
       "      <td>✋</td>\n",
       "      <td>[✋]</td>\n",
       "      <td>0</td>\n",
       "      <td>2</td>\n",
       "      <td>2</td>\n",
       "      <td>1</td>\n",
       "    </tr>\n",
       "    <tr>\n",
       "      <th>52</th>\n",
       "      <td>2022-09-15</td>\n",
       "      <td>12:03</td>\n",
       "      <td>+234 803 388 9558</td>\n",
       "      <td>☝🏽 for the offer advise right?</td>\n",
       "      <td>[☝🏽]</td>\n",
       "      <td>0</td>\n",
       "      <td>31</td>\n",
       "      <td>7</td>\n",
       "      <td>1</td>\n",
       "    </tr>\n",
       "    <tr>\n",
       "      <th>53</th>\n",
       "      <td>2022-09-15</td>\n",
       "      <td>12:04</td>\n",
       "      <td>+234 803 515 4843</td>\n",
       "      <td>Loan repayment</td>\n",
       "      <td>[]</td>\n",
       "      <td>0</td>\n",
       "      <td>15</td>\n",
       "      <td>3</td>\n",
       "      <td>1</td>\n",
       "    </tr>\n",
       "    <tr>\n",
       "      <th>54</th>\n",
       "      <td>2022-09-15</td>\n",
       "      <td>12:04</td>\n",
       "      <td>+234 806 691 9561</td>\n",
       "      <td>no instructions on what to do with the attach...</td>\n",
       "      <td>[]</td>\n",
       "      <td>0</td>\n",
       "      <td>75</td>\n",
       "      <td>15</td>\n",
       "      <td>1</td>\n",
       "    </tr>\n",
       "    <tr>\n",
       "      <th>55</th>\n",
       "      <td>2022-09-15</td>\n",
       "      <td>12:05</td>\n",
       "      <td>+234 706 055 3660</td>\n",
       "      <td>LSETF?</td>\n",
       "      <td>[]</td>\n",
       "      <td>0</td>\n",
       "      <td>7</td>\n",
       "      <td>2</td>\n",
       "      <td>1</td>\n",
       "    </tr>\n",
       "    <tr>\n",
       "      <th>56</th>\n",
       "      <td>2022-09-15</td>\n",
       "      <td>12:06</td>\n",
       "      <td>+234 703 043 1697</td>\n",
       "      <td>Please what email? What does it entails pleas...</td>\n",
       "      <td>[]</td>\n",
       "      <td>0</td>\n",
       "      <td>130</td>\n",
       "      <td>23</td>\n",
       "      <td>1</td>\n",
       "    </tr>\n",
       "    <tr>\n",
       "      <th>58</th>\n",
       "      <td>2022-09-15</td>\n",
       "      <td>12:07</td>\n",
       "      <td>+234 803 388 9558</td>\n",
       "      <td>Isit the mail from INNOVATIVE?</td>\n",
       "      <td>[]</td>\n",
       "      <td>0</td>\n",
       "      <td>31</td>\n",
       "      <td>6</td>\n",
       "      <td>1</td>\n",
       "    </tr>\n",
       "  </tbody>\n",
       "</table>\n",
       "</div>"
      ],
      "text/plain": [
       "         Date   Time             Author  \\\n",
       "4  2022-09-13  14:47  +234 816 555 0428   \n",
       "17 2022-09-13  15:04  +234 813 811 5975   \n",
       "19 2022-09-13  15:05  +234 806 691 9561   \n",
       "20 2022-09-13  15:07  +234 816 458 3514   \n",
       "22 2022-09-13  15:13  +234 701 603 0958   \n",
       "31 2022-09-15  03:08  +234 803 970 8243   \n",
       "32 2022-09-15  06:44  +234 816 656 5441   \n",
       "33 2022-09-15  09:54  +234 703 023 7698   \n",
       "34 2022-09-15  09:58  +234 803 388 9558   \n",
       "35 2022-09-15  09:59  +234 803 388 9558   \n",
       "36 2022-09-15  09:59  +234 706 932 9298   \n",
       "37 2022-09-15  10:00  +234 803 388 9558   \n",
       "38 2022-09-15  10:00  +234 803 239 7679   \n",
       "39 2022-09-15  10:14  +234 803 970 8243   \n",
       "40 2022-09-15  10:32  +234 703 023 7698   \n",
       "43 2022-09-15  11:49  +234 706 055 3660   \n",
       "44 2022-09-15  11:49  +234 806 691 9561   \n",
       "45 2022-09-15  11:56  +234 816 656 5441   \n",
       "46 2022-09-15  12:00  +234 803 466 6408   \n",
       "47 2022-09-15  12:00  +234 803 515 4843   \n",
       "48 2022-09-15  12:00  +234 813 741 9269   \n",
       "49 2022-09-15  12:00  +234 814 166 4393   \n",
       "50 2022-09-15  12:02  +234 808 662 6950   \n",
       "51 2022-09-15  12:03  +234 806 691 9561   \n",
       "52 2022-09-15  12:03  +234 803 388 9558   \n",
       "53 2022-09-15  12:04  +234 803 515 4843   \n",
       "54 2022-09-15  12:04  +234 806 691 9561   \n",
       "55 2022-09-15  12:05  +234 706 055 3660   \n",
       "56 2022-09-15  12:06  +234 703 043 1697   \n",
       "58 2022-09-15  12:07  +234 803 388 9558   \n",
       "\n",
       "                                              Message emoji  urlcount  \\\n",
       "4                                Good Afternoon Group    []         0   \n",
       "17                                     Good afternoon    []         0   \n",
       "19                                          Greetings    []         0   \n",
       "20                                     Good afternoon    []         0   \n",
       "22   Hello everyone, good afternoon.  Trust the we...    []         0   \n",
       "31                              I Didn’t get any mail    []         0   \n",
       "32                                  What email please    []         0   \n",
       "33   Good morning admin Pls what is d last day for...    []         0   \n",
       "34   I thought they said yesterday? Although the m...    []         0   \n",
       "35   SO I beleive they should still be able to giv...    []         0   \n",
       "36                     Can it be extended to tomorrow    []         0   \n",
       "37             Reach out to @2347016030958 Hehita pls    []         0   \n",
       "38                        Today is 15th not yesterday    []         0   \n",
       "39                                        For payment    []         0   \n",
       "40                                                Yes    []         0   \n",
       "43       Is the training gonna b virtual or physical?    []         0   \n",
       "44                                               Both    []         0   \n",
       "45         How many people got email from Lagos state    []         0   \n",
       "46                                                 ☝️  [☝️]         0   \n",
       "47                                                  👆   [👆]         0   \n",
       "48                                                 ☝🏼  [☝🏼]         0   \n",
       "49                                                 🙌🏽  [🙌🏽]         0   \n",
       "50                                                  👆   [👆]         0   \n",
       "51                                                  ✋   [✋]         0   \n",
       "52                     ☝🏽 for the offer advise right?  [☝🏽]         0   \n",
       "53                                     Loan repayment    []         0   \n",
       "54   no instructions on what to do with the attach...    []         0   \n",
       "55                                             LSETF?    []         0   \n",
       "56   Please what email? What does it entails pleas...    []         0   \n",
       "58                     Isit the mail from INNOVATIVE?    []         0   \n",
       "\n",
       "    Letter_Count  Word_Count  MessageCount  \n",
       "4             21           4             1  \n",
       "17            15           3             1  \n",
       "19            10           2             1  \n",
       "20            15           3             1  \n",
       "22           966         172             1  \n",
       "31            22           6             1  \n",
       "32            18           4             1  \n",
       "33            54          12             1  \n",
       "34            69          12             1  \n",
       "35            66          15             1  \n",
       "36            31           7             1  \n",
       "37            39           7             1  \n",
       "38            28           6             1  \n",
       "39            12           3             1  \n",
       "40             4           2             1  \n",
       "43            45           9             1  \n",
       "44             5           2             1  \n",
       "45            43           9             1  \n",
       "46             3           2             1  \n",
       "47             2           2             1  \n",
       "48             3           2             1  \n",
       "49             3           2             1  \n",
       "50             2           2             1  \n",
       "51             2           2             1  \n",
       "52            31           7             1  \n",
       "53            15           3             1  \n",
       "54            75          15             1  \n",
       "55             7           2             1  \n",
       "56           130          23             1  \n",
       "58            31           6             1  "
      ]
     },
     "execution_count": 35,
     "metadata": {},
     "output_type": "execute_result"
    }
   ],
   "source": [
    "messages_df.head(30)\n"
   ]
  },
  {
   "cell_type": "code",
   "execution_count": 36,
   "metadata": {},
   "outputs": [
    {
     "data": {
      "text/plain": [
       "4       0\n",
       "17      0\n",
       "19      0\n",
       "20      0\n",
       "22      0\n",
       "       ..\n",
       "2822    4\n",
       "2824    1\n",
       "2825    0\n",
       "2827    0\n",
       "2828    0\n",
       "Name: emojicount, Length: 2461, dtype: int64"
      ]
     },
     "execution_count": 36,
     "metadata": {},
     "output_type": "execute_result"
    }
   ],
   "source": [
    "messages_df[\"emojicount\"]= df['emoji'].str.len()\n",
    "messages_df[\"emojicount\"]"
   ]
  },
  {
   "cell_type": "markdown",
   "metadata": {},
   "source": [
    "## Author wise"
   ]
  },
  {
   "cell_type": "code",
   "execution_count": 37,
   "metadata": {},
   "outputs": [
    {
     "name": "stdout",
     "output_type": "stream",
     "text": [
      "Statistics of +234 816 555 0428 -\n",
      "Messages Sent: 1\n",
      "Words per message: 4.0\n",
      "Media Messages Sent: 0\n",
      "Emojis Sent: 0\n",
      "Links Sent: 0\n",
      "\n",
      "Statistics of +234 813 811 5975 -\n",
      "Messages Sent: 241\n",
      "Words per message: 7.373443983402489\n",
      "Media Messages Sent: 8\n",
      "Emojis Sent: 46\n",
      "Links Sent: 0\n",
      "\n",
      "Statistics of +234 806 691 9561 -\n",
      "Messages Sent: 25\n",
      "Words per message: 5.8\n",
      "Media Messages Sent: 0\n",
      "Emojis Sent: 5\n",
      "Links Sent: 0\n",
      "\n",
      "Statistics of +234 816 458 3514 -\n",
      "Messages Sent: 54\n",
      "Words per message: 5.888888888888889\n",
      "Media Messages Sent: 2\n",
      "Emojis Sent: 11\n",
      "Links Sent: 0\n",
      "\n",
      "Statistics of +234 701 603 0958 -\n",
      "Messages Sent: 91\n",
      "Words per message: 25.65934065934066\n",
      "Media Messages Sent: 4\n",
      "Emojis Sent: 15\n",
      "Links Sent: 6\n",
      "\n",
      "Statistics of +234 803 970 8243 -\n",
      "Messages Sent: 8\n",
      "Words per message: 4.875\n",
      "Media Messages Sent: 0\n",
      "Emojis Sent: 0\n",
      "Links Sent: 0\n",
      "\n",
      "Statistics of +234 816 656 5441 -\n",
      "Messages Sent: 72\n",
      "Words per message: 5.513888888888889\n",
      "Media Messages Sent: 1\n",
      "Emojis Sent: 38\n",
      "Links Sent: 0\n",
      "\n",
      "Statistics of +234 703 023 7698 -\n",
      "Messages Sent: 44\n",
      "Words per message: 10.295454545454545\n",
      "Media Messages Sent: 0\n",
      "Emojis Sent: 6\n",
      "Links Sent: 0\n",
      "\n",
      "Statistics of +234 803 388 9558 -\n",
      "Messages Sent: 73\n",
      "Words per message: 7.191780821917808\n",
      "Media Messages Sent: 4\n",
      "Emojis Sent: 5\n",
      "Links Sent: 0\n",
      "\n",
      "Statistics of +234 706 932 9298 -\n",
      "Messages Sent: 35\n",
      "Words per message: 7.485714285714286\n",
      "Media Messages Sent: 3\n",
      "Emojis Sent: 24\n",
      "Links Sent: 0\n",
      "\n",
      "Statistics of +234 803 239 7679 -\n",
      "Messages Sent: 55\n",
      "Words per message: 10.50909090909091\n",
      "Media Messages Sent: 4\n",
      "Emojis Sent: 1\n",
      "Links Sent: 0\n",
      "\n",
      "Statistics of +234 706 055 3660 -\n",
      "Messages Sent: 13\n",
      "Words per message: 9.0\n",
      "Media Messages Sent: 0\n",
      "Emojis Sent: 2\n",
      "Links Sent: 0\n",
      "\n",
      "Statistics of +234 803 466 6408 -\n",
      "Messages Sent: 47\n",
      "Words per message: 6.127659574468085\n",
      "Media Messages Sent: 7\n",
      "Emojis Sent: 24\n",
      "Links Sent: 0\n",
      "\n",
      "Statistics of +234 803 515 4843 -\n",
      "Messages Sent: 72\n",
      "Words per message: 5.055555555555555\n",
      "Media Messages Sent: 3\n",
      "Emojis Sent: 14\n",
      "Links Sent: 0\n",
      "\n",
      "Statistics of +234 813 741 9269 -\n",
      "Messages Sent: 3\n",
      "Words per message: 3.0\n",
      "Media Messages Sent: 0\n",
      "Emojis Sent: 2\n",
      "Links Sent: 0\n",
      "\n",
      "Statistics of +234 814 166 4393 -\n",
      "Messages Sent: 17\n",
      "Words per message: 6.176470588235294\n",
      "Media Messages Sent: 0\n",
      "Emojis Sent: 10\n",
      "Links Sent: 0\n",
      "\n",
      "Statistics of +234 808 662 6950 -\n",
      "Messages Sent: 107\n",
      "Words per message: 10.57943925233645\n",
      "Media Messages Sent: 6\n",
      "Emojis Sent: 80\n",
      "Links Sent: 0\n",
      "\n",
      "Statistics of +234 703 043 1697 -\n",
      "Messages Sent: 34\n",
      "Words per message: 8.264705882352942\n",
      "Media Messages Sent: 2\n",
      "Emojis Sent: 3\n",
      "Links Sent: 0\n",
      "\n",
      "Statistics of +234 810 975 0409 -\n",
      "Messages Sent: 54\n",
      "Words per message: 6.592592592592593\n",
      "Media Messages Sent: 8\n",
      "Emojis Sent: 61\n",
      "Links Sent: 0\n",
      "\n",
      "Statistics of +234 706 248 9122 -\n",
      "Messages Sent: 24\n",
      "Words per message: 7.25\n",
      "Media Messages Sent: 1\n",
      "Emojis Sent: 11\n",
      "Links Sent: 0\n",
      "\n",
      "Statistics of Cynthia Dataleum -\n",
      "Messages Sent: 49\n",
      "Words per message: 12.46938775510204\n",
      "Media Messages Sent: 0\n",
      "Emojis Sent: 17\n",
      "Links Sent: 2\n",
      "\n",
      "Statistics of Bode Dataleum -\n",
      "Messages Sent: 48\n",
      "Words per message: 9.708333333333334\n",
      "Media Messages Sent: 34\n",
      "Emojis Sent: 16\n",
      "Links Sent: 4\n",
      "\n",
      "Statistics of +234 701 062 0091 -\n",
      "Messages Sent: 1\n",
      "Words per message: 3.0\n",
      "Media Messages Sent: 0\n",
      "Emojis Sent: 0\n",
      "Links Sent: 0\n",
      "\n",
      "Statistics of +234 809 650 6571 -\n",
      "Messages Sent: 90\n",
      "Words per message: 8.277777777777779\n",
      "Media Messages Sent: 9\n",
      "Emojis Sent: 26\n",
      "Links Sent: 0\n",
      "\n",
      "Statistics of +234 817 595 7252 -\n",
      "Messages Sent: 44\n",
      "Words per message: 9.068181818181818\n",
      "Media Messages Sent: 0\n",
      "Emojis Sent: 10\n",
      "Links Sent: 1\n",
      "\n",
      "Statistics of Tochi Dataleum -\n",
      "Messages Sent: 5\n",
      "Words per message: 9.2\n",
      "Media Messages Sent: 0\n",
      "Emojis Sent: 0\n",
      "Links Sent: 0\n",
      "\n",
      "Statistics of Lestyn🦅 -\n",
      "Messages Sent: 53\n",
      "Words per message: 9.528301886792454\n",
      "Media Messages Sent: 11\n",
      "Emojis Sent: 15\n",
      "Links Sent: 0\n",
      "\n",
      "Statistics of +234 701 992 1069 -\n",
      "Messages Sent: 1\n",
      "Words per message: 16.0\n",
      "Media Messages Sent: 0\n",
      "Emojis Sent: 0\n",
      "Links Sent: 0\n",
      "\n",
      "Statistics of Esther Adewumi Dataleum -\n",
      "Messages Sent: 16\n",
      "Words per message: 7.125\n",
      "Media Messages Sent: 3\n",
      "Emojis Sent: 1\n",
      "Links Sent: 1\n",
      "\n",
      "Statistics of +234 811 352 8665 -\n",
      "Messages Sent: 12\n",
      "Words per message: 7.083333333333333\n",
      "Media Messages Sent: 1\n",
      "Emojis Sent: 3\n",
      "Links Sent: 0\n",
      "\n",
      "Statistics of +234 815 337 9058 -\n",
      "Messages Sent: 9\n",
      "Words per message: 8.333333333333334\n",
      "Media Messages Sent: 0\n",
      "Emojis Sent: 0\n",
      "Links Sent: 0\n",
      "\n",
      "Statistics of Adebimpe Dataleum GTT -\n",
      "Messages Sent: 80\n",
      "Words per message: 8.05\n",
      "Media Messages Sent: 7\n",
      "Emojis Sent: 6\n",
      "Links Sent: 0\n",
      "\n",
      "Statistics of Ugo Henry -\n",
      "Messages Sent: 67\n",
      "Words per message: 10.970149253731343\n",
      "Media Messages Sent: 9\n",
      "Emojis Sent: 41\n",
      "Links Sent: 1\n",
      "\n",
      "Statistics of +234 805 415 9202 -\n",
      "Messages Sent: 68\n",
      "Words per message: 7.955882352941177\n",
      "Media Messages Sent: 7\n",
      "Emojis Sent: 6\n",
      "Links Sent: 0\n",
      "\n",
      "Statistics of +234 708 733 7956 -\n",
      "Messages Sent: 21\n",
      "Words per message: 10.523809523809524\n",
      "Media Messages Sent: 1\n",
      "Emojis Sent: 0\n",
      "Links Sent: 1\n",
      "\n",
      "Statistics of +234 816 896 7844 -\n",
      "Messages Sent: 1\n",
      "Words per message: 19.0\n",
      "Media Messages Sent: 1\n",
      "Emojis Sent: 0\n",
      "Links Sent: 0\n",
      "\n",
      "Statistics of +234 812 598 8360 -\n",
      "Messages Sent: 3\n",
      "Words per message: 5.333333333333333\n",
      "Media Messages Sent: 0\n",
      "Emojis Sent: 0\n",
      "Links Sent: 0\n",
      "\n",
      "Statistics of +234 701 363 4674 -\n",
      "Messages Sent: 1\n",
      "Words per message: 27.0\n",
      "Media Messages Sent: 0\n",
      "Emojis Sent: 0\n",
      "Links Sent: 0\n",
      "\n",
      "Statistics of +234 815 799 9531 -\n",
      "Messages Sent: 55\n",
      "Words per message: 5.6909090909090905\n",
      "Media Messages Sent: 5\n",
      "Emojis Sent: 1\n",
      "Links Sent: 0\n",
      "\n",
      "Statistics of Racheal dataleum -\n",
      "Messages Sent: 50\n",
      "Words per message: 6.42\n",
      "Media Messages Sent: 6\n",
      "Emojis Sent: 10\n",
      "Links Sent: 1\n",
      "\n",
      "Statistics of +234 803 810 7436 -\n",
      "Messages Sent: 45\n",
      "Words per message: 7.733333333333333\n",
      "Media Messages Sent: 1\n",
      "Emojis Sent: 9\n",
      "Links Sent: 0\n",
      "\n",
      "Statistics of Boluwatife Dataleum -\n",
      "Messages Sent: 198\n",
      "Words per message: 28.404040404040405\n",
      "Media Messages Sent: 21\n",
      "Emojis Sent: 102\n",
      "Links Sent: 24\n",
      "\n",
      "Statistics of +234 817 993 9944 -\n",
      "Messages Sent: 1\n",
      "Words per message: 3.0\n",
      "Media Messages Sent: 0\n",
      "Emojis Sent: 0\n",
      "Links Sent: 0\n",
      "\n",
      "Statistics of +234 808 574 8262 -\n",
      "Messages Sent: 71\n",
      "Words per message: 9.28169014084507\n",
      "Media Messages Sent: 5\n",
      "Emojis Sent: 27\n",
      "Links Sent: 0\n",
      "\n",
      "Statistics of +234 810 410 6657 -\n",
      "Messages Sent: 22\n",
      "Words per message: 7.318181818181818\n",
      "Media Messages Sent: 2\n",
      "Emojis Sent: 1\n",
      "Links Sent: 0\n",
      "\n",
      "Statistics of +234 902 328 8618 -\n",
      "Messages Sent: 9\n",
      "Words per message: 6.222222222222222\n",
      "Media Messages Sent: 2\n",
      "Emojis Sent: 1\n",
      "Links Sent: 0\n",
      "\n",
      "Statistics of +234 902 765 9738 -\n",
      "Messages Sent: 5\n",
      "Words per message: 7.4\n",
      "Media Messages Sent: 0\n",
      "Emojis Sent: 0\n",
      "Links Sent: 0\n",
      "\n",
      "Statistics of +234 816 964 8810 -\n",
      "Messages Sent: 40\n",
      "Words per message: 7.375\n",
      "Media Messages Sent: 1\n",
      "Emojis Sent: 7\n",
      "Links Sent: 0\n",
      "\n",
      "Statistics of +234 810 479 3228 -\n",
      "Messages Sent: 46\n",
      "Words per message: 9.978260869565217\n",
      "Media Messages Sent: 0\n",
      "Emojis Sent: 10\n",
      "Links Sent: 0\n",
      "\n",
      "Statistics of +234 809 326 6566 -\n",
      "Messages Sent: 3\n",
      "Words per message: 39.0\n",
      "Media Messages Sent: 2\n",
      "Emojis Sent: 0\n",
      "Links Sent: 0\n",
      "\n",
      "Statistics of +234 816 591 7304 -\n",
      "Messages Sent: 29\n",
      "Words per message: 9.413793103448276\n",
      "Media Messages Sent: 0\n",
      "Emojis Sent: 4\n",
      "Links Sent: 1\n",
      "\n",
      "Statistics of +234 812 904 8668 -\n",
      "Messages Sent: 6\n",
      "Words per message: 3.5\n",
      "Media Messages Sent: 7\n",
      "Emojis Sent: 4\n",
      "Links Sent: 0\n",
      "\n",
      "Statistics of +234 810 583 5790 -\n",
      "Messages Sent: 24\n",
      "Words per message: 10.541666666666666\n",
      "Media Messages Sent: 3\n",
      "Emojis Sent: 0\n",
      "Links Sent: 0\n",
      "\n",
      "Statistics of +234 816 419 2296 -\n",
      "Messages Sent: 10\n",
      "Words per message: 45.1\n",
      "Media Messages Sent: 3\n",
      "Emojis Sent: 2\n",
      "Links Sent: 1\n",
      "\n",
      "Statistics of +234 810 529 8145 -\n",
      "Messages Sent: 5\n",
      "Words per message: 2.8\n",
      "Media Messages Sent: 0\n",
      "Emojis Sent: 1\n",
      "Links Sent: 0\n",
      "\n",
      "Statistics of +234 806 755 0665 -\n",
      "Messages Sent: 81\n",
      "Words per message: 38.30864197530864\n",
      "Media Messages Sent: 12\n",
      "Emojis Sent: 45\n",
      "Links Sent: 12\n",
      "\n",
      "Statistics of +234 806 295 6139 -\n",
      "Messages Sent: 20\n",
      "Words per message: 5.2\n",
      "Media Messages Sent: 9\n",
      "Emojis Sent: 2\n",
      "Links Sent: 0\n",
      "\n",
      "Statistics of +234 807 448 5950 -\n",
      "Messages Sent: 4\n",
      "Words per message: 6.25\n",
      "Media Messages Sent: 0\n",
      "Emojis Sent: 0\n",
      "Links Sent: 0\n",
      "\n",
      "Statistics of +234 708 304 6964 -\n",
      "Messages Sent: 1\n",
      "Words per message: 2.0\n",
      "Media Messages Sent: 0\n",
      "Emojis Sent: 0\n",
      "Links Sent: 0\n",
      "\n",
      "Statistics of +234 907 886 1397 -\n",
      "Messages Sent: 1\n",
      "Words per message: 2.0\n",
      "Media Messages Sent: 0\n",
      "Emojis Sent: 0\n",
      "Links Sent: 0\n",
      "\n",
      "Statistics of +234 805 404 8814 -\n",
      "Messages Sent: 5\n",
      "Words per message: 12.4\n",
      "Media Messages Sent: 0\n",
      "Emojis Sent: 0\n",
      "Links Sent: 0\n",
      "\n",
      "Statistics of +234 813 193 7604 -\n",
      "Messages Sent: 7\n",
      "Words per message: 5.571428571428571\n",
      "Media Messages Sent: 0\n",
      "Emojis Sent: 1\n",
      "Links Sent: 0\n",
      "\n",
      "Statistics of +234 703 206 0301 -\n",
      "Messages Sent: 24\n",
      "Words per message: 9.458333333333334\n",
      "Media Messages Sent: 0\n",
      "Emojis Sent: 47\n",
      "Links Sent: 0\n",
      "\n",
      "Statistics of +234 703 213 4554 -\n",
      "Messages Sent: 1\n",
      "Words per message: 21.0\n",
      "Media Messages Sent: 0\n",
      "Emojis Sent: 0\n",
      "Links Sent: 0\n",
      "\n",
      "Statistics of +234 805 395 4175 -\n",
      "Messages Sent: 5\n",
      "Words per message: 4.8\n",
      "Media Messages Sent: 0\n",
      "Emojis Sent: 2\n",
      "Links Sent: 0\n",
      "\n",
      "Statistics of +234 812 692 8167 -\n",
      "Messages Sent: 1\n",
      "Words per message: 2.0\n",
      "Media Messages Sent: 0\n",
      "Emojis Sent: 0\n",
      "Links Sent: 0\n",
      "\n",
      "Statistics of +234 701 199 3148 -\n",
      "Messages Sent: 10\n",
      "Words per message: 8.0\n",
      "Media Messages Sent: 3\n",
      "Emojis Sent: 4\n",
      "Links Sent: 2\n",
      "\n",
      "Statistics of +234 806 084 5345 -\n",
      "Messages Sent: 3\n",
      "Words per message: 2.6666666666666665\n",
      "Media Messages Sent: 1\n",
      "Emojis Sent: 0\n",
      "Links Sent: 0\n",
      "\n",
      "Statistics of +234 701 925 5419 -\n",
      "Messages Sent: 5\n",
      "Words per message: 31.6\n",
      "Media Messages Sent: 0\n",
      "Emojis Sent: 2\n",
      "Links Sent: 1\n",
      "\n",
      "Statistics of +234 808 820 9237 -\n",
      "Messages Sent: 16\n",
      "Words per message: 4.625\n",
      "Media Messages Sent: 2\n",
      "Emojis Sent: 2\n",
      "Links Sent: 0\n",
      "\n",
      "Statistics of +234 802 141 3017 -\n",
      "Messages Sent: 1\n",
      "Words per message: 70.0\n",
      "Media Messages Sent: 0\n",
      "Emojis Sent: 0\n",
      "Links Sent: 1\n",
      "\n",
      "Statistics of Mr. Reuben Dataleum -\n",
      "Messages Sent: 5\n",
      "Words per message: 9.4\n",
      "Media Messages Sent: 5\n",
      "Emojis Sent: 0\n",
      "Links Sent: 0\n",
      "\n",
      "Statistics of Dataleum -\n",
      "Messages Sent: 1\n",
      "Words per message: 5.0\n",
      "Media Messages Sent: 0\n",
      "Emojis Sent: 0\n",
      "Links Sent: 0\n",
      "\n",
      "Statistics of +234 706 388 1739 -\n",
      "Messages Sent: 12\n",
      "Words per message: 96.33333333333333\n",
      "Media Messages Sent: 6\n",
      "Emojis Sent: 0\n",
      "Links Sent: 0\n",
      "\n"
     ]
    }
   ],
   "source": [
    "frnds = messages_df.Author.unique()\n",
    "\n",
    "for i in range(len(frnds)):\n",
    "  # Filtering out messages of particular user\n",
    "  req_df= messages_df[messages_df[\"Author\"] == frnds[i]]\n",
    "  # req_df will contain messages of only one particular user\n",
    "  print(f'Statistics of {frnds[i]} -')\n",
    "  # shape will print number of rows which indirectly means the number of messages\n",
    "  print('Messages Sent:', req_df.shape[0])\n",
    "  #Word_Count contains of total words in one message. Sum of all words/ Total Messages will yield words per message\n",
    "  words_per_message = (np.sum(req_df['Word_Count']))/req_df.shape[0]\n",
    "  print('Words per message:', words_per_message)\n",
    "  #media conists of media messages\n",
    "  media = media_messages_df[media_messages_df['Author'] == frnds[i]].shape[0]\n",
    "  print('Media Messages Sent:', media)\n",
    "  # emojis conists of total emojis\n",
    "  emojis = sum(req_df['emoji'].str.len())\n",
    "  print('Emojis Sent:', emojis)\n",
    "  #links consist of total links\n",
    "  links = sum(link_messages[link_messages['Author'] == frnds[i]][\"urlcount\"]) \n",
    "  messages_df[\"Links Sent\"] = links\n",
    "  print('Links Sent:', links)   \n",
    "  print()"
   ]
  },
  {
   "cell_type": "markdown",
   "metadata": {},
   "source": [
    "# unique emojis"
   ]
  },
  {
   "cell_type": "code",
   "execution_count": 38,
   "metadata": {},
   "outputs": [
    {
     "name": "stdout",
     "output_type": "stream",
     "text": [
      "126\n"
     ]
    }
   ],
   "source": [
    "total_emojis_list = list(set([a for b in messages_df.emoji for a in b]))\n",
    "total_emojis = len(total_emojis_list)\n",
    "print(total_emojis)"
   ]
  },
  {
   "cell_type": "markdown",
   "metadata": {},
   "source": [
    "# Most used emoji"
   ]
  },
  {
   "cell_type": "code",
   "execution_count": 39,
   "metadata": {},
   "outputs": [
    {
     "name": "stdout",
     "output_type": "stream",
     "text": [
      "[('▪️', 68), ('😂', 56), ('🙏', 44), ('😊', 39), ('👍', 28), ('❗', 21), ('🥰', 20), ('😭', 18), ('🙌🏽', 17), ('❤️', 17), ('🤣', 17), ('😒', 17), ('😮', 16), ('🙀', 15), ('😁', 14), ('🙇🏻\\u200d♀️', 14), ('👆🏿', 13), ('🤭', 13), ('♥️', 12), ('🤗', 12), ('😀', 11), ('😏', 10), ('🙏🏽', 10), ('🥺', 9), ('🥳', 9), ('✨', 9), ('✅', 8), ('🏃\\u200d♀️', 8), ('😳', 7), ('😩', 7), ('🥂', 7), ('🔥', 6), ('🙄', 6), ('👏', 6), ('😇', 6), ('☕', 5), ('☹️', 5), ('☕️', 5), ('💪', 5), ('🎉', 5), ('🎂', 5), ('😫', 5), ('🫂', 5), ('👆', 4), ('🌚', 4), ('😢', 4), ('🙌', 4), ('⤵️', 4), ('😅', 4), ('🙌🏻', 4), ('👏🏼', 4), ('💪🏾', 4), ('🙈', 4), ('☝️', 3), ('👍🏾', 3), ('🙏🏾', 3), ('\\U0001fae1', 3), ('🤔', 3), ('▪', 3), ('😃', 3), ('😉', 3), ('🤦\\u200d♀️', 3), ('🎊', 3), ('👑', 3), ('🏃\\u200d♂️', 3), ('🎈', 3), ('🦅', 3), ('😆', 2), ('😱', 2), ('👆🏼', 2), ('👍🏽', 2), ('\\U0001f979', 2), ('🤩', 2), ('🤪', 2), ('😋', 2), ('🙆\\u200d♀️', 2), ('😎', 2), ('🙇🏿\\u200d♂️', 2), ('🙌🏿', 2), ('☝🏼', 1), ('✋', 1), ('☝🏽', 1), ('👍🏻', 1), ('😕', 1), ('✋🏻', 1), ('✌🏻', 1), ('🤷\\u200d♂️', 1), ('☑️', 1), ('✔️', 1), ('👆🏽', 1), ('👆🏾', 1), ('👉🏽', 1), ('🤦🏽\\u200d♂️', 1), ('😄', 1), ('🤦\\u200d♂️', 1), ('😪', 1), ('👋', 1), ('👨🏾\\u200d✈️', 1), ('😨', 1), ('🙏🏻', 1), ('🤲', 1), ('🍷', 1), ('🟢', 1), ('🤷', 1), ('🤐', 1), ('🥛', 1), ('🍻', 1), ('🍺', 1), ('🧉', 1), ('🍹', 1), ('🥃', 1), ('🤦🏾\\u200d♂️', 1), ('🙂', 1), ('🤝', 1), ('\\U0001faf6🏿', 1), ('🧝🏿\\u200d♀️', 1), ('💫', 1), ('💪🏻', 1), ('👏🏽', 1), ('😍', 1), ('😘', 1), ('💋', 1), ('📶', 1), ('👀', 1), ('🙅\\u200d♂️', 1), ('🙌🏾', 1)]\n"
     ]
    }
   ],
   "source": [
    "total_emojis_list = list([a for b in messages_df.emoji for a in b])\n",
    "emoji_dict = dict(Counter(total_emojis_list))\n",
    "emoji_dict = sorted(emoji_dict.items(), key=lambda x: x[1], reverse=True)\n",
    "print(emoji_dict)"
   ]
  },
  {
   "cell_type": "code",
   "execution_count": 40,
   "metadata": {},
   "outputs": [
    {
     "data": {
      "text/html": [
       "<div>\n",
       "<style scoped>\n",
       "    .dataframe tbody tr th:only-of-type {\n",
       "        vertical-align: middle;\n",
       "    }\n",
       "\n",
       "    .dataframe tbody tr th {\n",
       "        vertical-align: top;\n",
       "    }\n",
       "\n",
       "    .dataframe thead th {\n",
       "        text-align: right;\n",
       "    }\n",
       "</style>\n",
       "<table border=\"1\" class=\"dataframe\">\n",
       "  <thead>\n",
       "    <tr style=\"text-align: right;\">\n",
       "      <th></th>\n",
       "      <th>emoji</th>\n",
       "      <th>count</th>\n",
       "    </tr>\n",
       "  </thead>\n",
       "  <tbody>\n",
       "    <tr>\n",
       "      <th>0</th>\n",
       "      <td>▪️</td>\n",
       "      <td>68</td>\n",
       "    </tr>\n",
       "    <tr>\n",
       "      <th>1</th>\n",
       "      <td>😂</td>\n",
       "      <td>56</td>\n",
       "    </tr>\n",
       "    <tr>\n",
       "      <th>2</th>\n",
       "      <td>🙏</td>\n",
       "      <td>44</td>\n",
       "    </tr>\n",
       "    <tr>\n",
       "      <th>3</th>\n",
       "      <td>😊</td>\n",
       "      <td>39</td>\n",
       "    </tr>\n",
       "    <tr>\n",
       "      <th>4</th>\n",
       "      <td>👍</td>\n",
       "      <td>28</td>\n",
       "    </tr>\n",
       "    <tr>\n",
       "      <th>...</th>\n",
       "      <td>...</td>\n",
       "      <td>...</td>\n",
       "    </tr>\n",
       "    <tr>\n",
       "      <th>121</th>\n",
       "      <td>💋</td>\n",
       "      <td>1</td>\n",
       "    </tr>\n",
       "    <tr>\n",
       "      <th>122</th>\n",
       "      <td>📶</td>\n",
       "      <td>1</td>\n",
       "    </tr>\n",
       "    <tr>\n",
       "      <th>123</th>\n",
       "      <td>👀</td>\n",
       "      <td>1</td>\n",
       "    </tr>\n",
       "    <tr>\n",
       "      <th>124</th>\n",
       "      <td>🙅‍♂️</td>\n",
       "      <td>1</td>\n",
       "    </tr>\n",
       "    <tr>\n",
       "      <th>125</th>\n",
       "      <td>🙌🏾</td>\n",
       "      <td>1</td>\n",
       "    </tr>\n",
       "  </tbody>\n",
       "</table>\n",
       "<p>126 rows × 2 columns</p>\n",
       "</div>"
      ],
      "text/plain": [
       "    emoji  count\n",
       "0      ▪️     68\n",
       "1       😂     56\n",
       "2       🙏     44\n",
       "3       😊     39\n",
       "4       👍     28\n",
       "..    ...    ...\n",
       "121     💋      1\n",
       "122     📶      1\n",
       "123     👀      1\n",
       "124  🙅‍♂️      1\n",
       "125    🙌🏾      1\n",
       "\n",
       "[126 rows x 2 columns]"
      ]
     },
     "execution_count": 40,
     "metadata": {},
     "output_type": "execute_result"
    }
   ],
   "source": [
    "emoji_df = pd.DataFrame(emoji_dict, columns=['emoji', 'count'])\n",
    "emoji_df"
   ]
  },
  {
   "cell_type": "code",
   "execution_count": 41,
   "metadata": {},
   "outputs": [],
   "source": [
    "emoji_df.to_csv(\"GttpEmojis.csv\")"
   ]
  },
  {
   "cell_type": "code",
   "execution_count": 42,
   "metadata": {},
   "outputs": [
    {
     "data": {
      "application/vnd.plotly.v1+json": {
       "config": {
        "plotlyServerURL": "https://plot.ly"
       },
       "data": [
        {
         "domain": {
          "x": [
           0,
           1
          ],
          "y": [
           0,
           1
          ]
         },
         "hovertemplate": "emoji=%{label}<br>count=%{value}<extra></extra>",
         "labels": [
          "▪️",
          "😂",
          "🙏",
          "😊",
          "👍",
          "❗",
          "🥰",
          "😭",
          "🙌🏽",
          "❤️",
          "🤣",
          "😒",
          "😮",
          "🙀",
          "😁",
          "🙇🏻‍♀️",
          "👆🏿",
          "🤭",
          "♥️",
          "🤗",
          "😀",
          "😏",
          "🙏🏽",
          "🥺",
          "🥳",
          "✨",
          "✅",
          "🏃‍♀️",
          "😳",
          "😩",
          "🥂",
          "🔥",
          "🙄",
          "👏",
          "😇",
          "☕",
          "☹️",
          "☕️",
          "💪",
          "🎉",
          "🎂",
          "😫",
          "🫂",
          "👆",
          "🌚",
          "😢",
          "🙌",
          "⤵️",
          "😅",
          "🙌🏻",
          "👏🏼",
          "💪🏾",
          "🙈",
          "☝️",
          "👍🏾",
          "🙏🏾",
          "🫡",
          "🤔",
          "▪",
          "😃",
          "😉",
          "🤦‍♀️",
          "🎊",
          "👑",
          "🏃‍♂️",
          "🎈",
          "🦅",
          "😆",
          "😱",
          "👆🏼",
          "👍🏽",
          "🥹",
          "🤩",
          "🤪",
          "😋",
          "🙆‍♀️",
          "😎",
          "🙇🏿‍♂️",
          "🙌🏿",
          "☝🏼",
          "✋",
          "☝🏽",
          "👍🏻",
          "😕",
          "✋🏻",
          "✌🏻",
          "🤷‍♂️",
          "☑️",
          "✔️",
          "👆🏽",
          "👆🏾",
          "👉🏽",
          "🤦🏽‍♂️",
          "😄",
          "🤦‍♂️",
          "😪",
          "👋",
          "👨🏾‍✈️",
          "😨",
          "🙏🏻",
          "🤲",
          "🍷",
          "🟢",
          "🤷",
          "🤐",
          "🥛",
          "🍻",
          "🍺",
          "🧉",
          "🍹",
          "🥃",
          "🤦🏾‍♂️",
          "🙂",
          "🤝",
          "🫶🏿",
          "🧝🏿‍♀️",
          "💫",
          "💪🏻",
          "👏🏽",
          "😍",
          "😘",
          "💋",
          "📶",
          "👀",
          "🙅‍♂️",
          "🙌🏾"
         ],
         "legendgroup": "",
         "name": "",
         "showlegend": true,
         "textinfo": "percent+label",
         "textposition": "inside",
         "type": "pie",
         "values": [
          68,
          56,
          44,
          39,
          28,
          21,
          20,
          18,
          17,
          17,
          17,
          17,
          16,
          15,
          14,
          14,
          13,
          13,
          12,
          12,
          11,
          10,
          10,
          9,
          9,
          9,
          8,
          8,
          7,
          7,
          7,
          6,
          6,
          6,
          6,
          5,
          5,
          5,
          5,
          5,
          5,
          5,
          5,
          4,
          4,
          4,
          4,
          4,
          4,
          4,
          4,
          4,
          4,
          3,
          3,
          3,
          3,
          3,
          3,
          3,
          3,
          3,
          3,
          3,
          3,
          3,
          3,
          2,
          2,
          2,
          2,
          2,
          2,
          2,
          2,
          2,
          2,
          2,
          2,
          1,
          1,
          1,
          1,
          1,
          1,
          1,
          1,
          1,
          1,
          1,
          1,
          1,
          1,
          1,
          1,
          1,
          1,
          1,
          1,
          1,
          1,
          1,
          1,
          1,
          1,
          1,
          1,
          1,
          1,
          1,
          1,
          1,
          1,
          1,
          1,
          1,
          1,
          1,
          1,
          1,
          1,
          1,
          1,
          1,
          1,
          1
         ]
        }
       ],
       "layout": {
        "legend": {
         "tracegroupgap": 0
        },
        "margin": {
         "t": 60
        },
        "template": {
         "data": {
          "bar": [
           {
            "error_x": {
             "color": "#2a3f5f"
            },
            "error_y": {
             "color": "#2a3f5f"
            },
            "marker": {
             "line": {
              "color": "#E5ECF6",
              "width": 0.5
             },
             "pattern": {
              "fillmode": "overlay",
              "size": 10,
              "solidity": 0.2
             }
            },
            "type": "bar"
           }
          ],
          "barpolar": [
           {
            "marker": {
             "line": {
              "color": "#E5ECF6",
              "width": 0.5
             },
             "pattern": {
              "fillmode": "overlay",
              "size": 10,
              "solidity": 0.2
             }
            },
            "type": "barpolar"
           }
          ],
          "carpet": [
           {
            "aaxis": {
             "endlinecolor": "#2a3f5f",
             "gridcolor": "white",
             "linecolor": "white",
             "minorgridcolor": "white",
             "startlinecolor": "#2a3f5f"
            },
            "baxis": {
             "endlinecolor": "#2a3f5f",
             "gridcolor": "white",
             "linecolor": "white",
             "minorgridcolor": "white",
             "startlinecolor": "#2a3f5f"
            },
            "type": "carpet"
           }
          ],
          "choropleth": [
           {
            "colorbar": {
             "outlinewidth": 0,
             "ticks": ""
            },
            "type": "choropleth"
           }
          ],
          "contour": [
           {
            "colorbar": {
             "outlinewidth": 0,
             "ticks": ""
            },
            "colorscale": [
             [
              0,
              "#0d0887"
             ],
             [
              0.1111111111111111,
              "#46039f"
             ],
             [
              0.2222222222222222,
              "#7201a8"
             ],
             [
              0.3333333333333333,
              "#9c179e"
             ],
             [
              0.4444444444444444,
              "#bd3786"
             ],
             [
              0.5555555555555556,
              "#d8576b"
             ],
             [
              0.6666666666666666,
              "#ed7953"
             ],
             [
              0.7777777777777778,
              "#fb9f3a"
             ],
             [
              0.8888888888888888,
              "#fdca26"
             ],
             [
              1,
              "#f0f921"
             ]
            ],
            "type": "contour"
           }
          ],
          "contourcarpet": [
           {
            "colorbar": {
             "outlinewidth": 0,
             "ticks": ""
            },
            "type": "contourcarpet"
           }
          ],
          "heatmap": [
           {
            "colorbar": {
             "outlinewidth": 0,
             "ticks": ""
            },
            "colorscale": [
             [
              0,
              "#0d0887"
             ],
             [
              0.1111111111111111,
              "#46039f"
             ],
             [
              0.2222222222222222,
              "#7201a8"
             ],
             [
              0.3333333333333333,
              "#9c179e"
             ],
             [
              0.4444444444444444,
              "#bd3786"
             ],
             [
              0.5555555555555556,
              "#d8576b"
             ],
             [
              0.6666666666666666,
              "#ed7953"
             ],
             [
              0.7777777777777778,
              "#fb9f3a"
             ],
             [
              0.8888888888888888,
              "#fdca26"
             ],
             [
              1,
              "#f0f921"
             ]
            ],
            "type": "heatmap"
           }
          ],
          "heatmapgl": [
           {
            "colorbar": {
             "outlinewidth": 0,
             "ticks": ""
            },
            "colorscale": [
             [
              0,
              "#0d0887"
             ],
             [
              0.1111111111111111,
              "#46039f"
             ],
             [
              0.2222222222222222,
              "#7201a8"
             ],
             [
              0.3333333333333333,
              "#9c179e"
             ],
             [
              0.4444444444444444,
              "#bd3786"
             ],
             [
              0.5555555555555556,
              "#d8576b"
             ],
             [
              0.6666666666666666,
              "#ed7953"
             ],
             [
              0.7777777777777778,
              "#fb9f3a"
             ],
             [
              0.8888888888888888,
              "#fdca26"
             ],
             [
              1,
              "#f0f921"
             ]
            ],
            "type": "heatmapgl"
           }
          ],
          "histogram": [
           {
            "marker": {
             "pattern": {
              "fillmode": "overlay",
              "size": 10,
              "solidity": 0.2
             }
            },
            "type": "histogram"
           }
          ],
          "histogram2d": [
           {
            "colorbar": {
             "outlinewidth": 0,
             "ticks": ""
            },
            "colorscale": [
             [
              0,
              "#0d0887"
             ],
             [
              0.1111111111111111,
              "#46039f"
             ],
             [
              0.2222222222222222,
              "#7201a8"
             ],
             [
              0.3333333333333333,
              "#9c179e"
             ],
             [
              0.4444444444444444,
              "#bd3786"
             ],
             [
              0.5555555555555556,
              "#d8576b"
             ],
             [
              0.6666666666666666,
              "#ed7953"
             ],
             [
              0.7777777777777778,
              "#fb9f3a"
             ],
             [
              0.8888888888888888,
              "#fdca26"
             ],
             [
              1,
              "#f0f921"
             ]
            ],
            "type": "histogram2d"
           }
          ],
          "histogram2dcontour": [
           {
            "colorbar": {
             "outlinewidth": 0,
             "ticks": ""
            },
            "colorscale": [
             [
              0,
              "#0d0887"
             ],
             [
              0.1111111111111111,
              "#46039f"
             ],
             [
              0.2222222222222222,
              "#7201a8"
             ],
             [
              0.3333333333333333,
              "#9c179e"
             ],
             [
              0.4444444444444444,
              "#bd3786"
             ],
             [
              0.5555555555555556,
              "#d8576b"
             ],
             [
              0.6666666666666666,
              "#ed7953"
             ],
             [
              0.7777777777777778,
              "#fb9f3a"
             ],
             [
              0.8888888888888888,
              "#fdca26"
             ],
             [
              1,
              "#f0f921"
             ]
            ],
            "type": "histogram2dcontour"
           }
          ],
          "mesh3d": [
           {
            "colorbar": {
             "outlinewidth": 0,
             "ticks": ""
            },
            "type": "mesh3d"
           }
          ],
          "parcoords": [
           {
            "line": {
             "colorbar": {
              "outlinewidth": 0,
              "ticks": ""
             }
            },
            "type": "parcoords"
           }
          ],
          "pie": [
           {
            "automargin": true,
            "type": "pie"
           }
          ],
          "scatter": [
           {
            "fillpattern": {
             "fillmode": "overlay",
             "size": 10,
             "solidity": 0.2
            },
            "type": "scatter"
           }
          ],
          "scatter3d": [
           {
            "line": {
             "colorbar": {
              "outlinewidth": 0,
              "ticks": ""
             }
            },
            "marker": {
             "colorbar": {
              "outlinewidth": 0,
              "ticks": ""
             }
            },
            "type": "scatter3d"
           }
          ],
          "scattercarpet": [
           {
            "marker": {
             "colorbar": {
              "outlinewidth": 0,
              "ticks": ""
             }
            },
            "type": "scattercarpet"
           }
          ],
          "scattergeo": [
           {
            "marker": {
             "colorbar": {
              "outlinewidth": 0,
              "ticks": ""
             }
            },
            "type": "scattergeo"
           }
          ],
          "scattergl": [
           {
            "marker": {
             "colorbar": {
              "outlinewidth": 0,
              "ticks": ""
             }
            },
            "type": "scattergl"
           }
          ],
          "scattermapbox": [
           {
            "marker": {
             "colorbar": {
              "outlinewidth": 0,
              "ticks": ""
             }
            },
            "type": "scattermapbox"
           }
          ],
          "scatterpolar": [
           {
            "marker": {
             "colorbar": {
              "outlinewidth": 0,
              "ticks": ""
             }
            },
            "type": "scatterpolar"
           }
          ],
          "scatterpolargl": [
           {
            "marker": {
             "colorbar": {
              "outlinewidth": 0,
              "ticks": ""
             }
            },
            "type": "scatterpolargl"
           }
          ],
          "scatterternary": [
           {
            "marker": {
             "colorbar": {
              "outlinewidth": 0,
              "ticks": ""
             }
            },
            "type": "scatterternary"
           }
          ],
          "surface": [
           {
            "colorbar": {
             "outlinewidth": 0,
             "ticks": ""
            },
            "colorscale": [
             [
              0,
              "#0d0887"
             ],
             [
              0.1111111111111111,
              "#46039f"
             ],
             [
              0.2222222222222222,
              "#7201a8"
             ],
             [
              0.3333333333333333,
              "#9c179e"
             ],
             [
              0.4444444444444444,
              "#bd3786"
             ],
             [
              0.5555555555555556,
              "#d8576b"
             ],
             [
              0.6666666666666666,
              "#ed7953"
             ],
             [
              0.7777777777777778,
              "#fb9f3a"
             ],
             [
              0.8888888888888888,
              "#fdca26"
             ],
             [
              1,
              "#f0f921"
             ]
            ],
            "type": "surface"
           }
          ],
          "table": [
           {
            "cells": {
             "fill": {
              "color": "#EBF0F8"
             },
             "line": {
              "color": "white"
             }
            },
            "header": {
             "fill": {
              "color": "#C8D4E3"
             },
             "line": {
              "color": "white"
             }
            },
            "type": "table"
           }
          ]
         },
         "layout": {
          "annotationdefaults": {
           "arrowcolor": "#2a3f5f",
           "arrowhead": 0,
           "arrowwidth": 1
          },
          "autotypenumbers": "strict",
          "coloraxis": {
           "colorbar": {
            "outlinewidth": 0,
            "ticks": ""
           }
          },
          "colorscale": {
           "diverging": [
            [
             0,
             "#8e0152"
            ],
            [
             0.1,
             "#c51b7d"
            ],
            [
             0.2,
             "#de77ae"
            ],
            [
             0.3,
             "#f1b6da"
            ],
            [
             0.4,
             "#fde0ef"
            ],
            [
             0.5,
             "#f7f7f7"
            ],
            [
             0.6,
             "#e6f5d0"
            ],
            [
             0.7,
             "#b8e186"
            ],
            [
             0.8,
             "#7fbc41"
            ],
            [
             0.9,
             "#4d9221"
            ],
            [
             1,
             "#276419"
            ]
           ],
           "sequential": [
            [
             0,
             "#0d0887"
            ],
            [
             0.1111111111111111,
             "#46039f"
            ],
            [
             0.2222222222222222,
             "#7201a8"
            ],
            [
             0.3333333333333333,
             "#9c179e"
            ],
            [
             0.4444444444444444,
             "#bd3786"
            ],
            [
             0.5555555555555556,
             "#d8576b"
            ],
            [
             0.6666666666666666,
             "#ed7953"
            ],
            [
             0.7777777777777778,
             "#fb9f3a"
            ],
            [
             0.8888888888888888,
             "#fdca26"
            ],
            [
             1,
             "#f0f921"
            ]
           ],
           "sequentialminus": [
            [
             0,
             "#0d0887"
            ],
            [
             0.1111111111111111,
             "#46039f"
            ],
            [
             0.2222222222222222,
             "#7201a8"
            ],
            [
             0.3333333333333333,
             "#9c179e"
            ],
            [
             0.4444444444444444,
             "#bd3786"
            ],
            [
             0.5555555555555556,
             "#d8576b"
            ],
            [
             0.6666666666666666,
             "#ed7953"
            ],
            [
             0.7777777777777778,
             "#fb9f3a"
            ],
            [
             0.8888888888888888,
             "#fdca26"
            ],
            [
             1,
             "#f0f921"
            ]
           ]
          },
          "colorway": [
           "#636efa",
           "#EF553B",
           "#00cc96",
           "#ab63fa",
           "#FFA15A",
           "#19d3f3",
           "#FF6692",
           "#B6E880",
           "#FF97FF",
           "#FECB52"
          ],
          "font": {
           "color": "#2a3f5f"
          },
          "geo": {
           "bgcolor": "white",
           "lakecolor": "white",
           "landcolor": "#E5ECF6",
           "showlakes": true,
           "showland": true,
           "subunitcolor": "white"
          },
          "hoverlabel": {
           "align": "left"
          },
          "hovermode": "closest",
          "mapbox": {
           "style": "light"
          },
          "paper_bgcolor": "white",
          "plot_bgcolor": "#E5ECF6",
          "polar": {
           "angularaxis": {
            "gridcolor": "white",
            "linecolor": "white",
            "ticks": ""
           },
           "bgcolor": "#E5ECF6",
           "radialaxis": {
            "gridcolor": "white",
            "linecolor": "white",
            "ticks": ""
           }
          },
          "scene": {
           "xaxis": {
            "backgroundcolor": "#E5ECF6",
            "gridcolor": "white",
            "gridwidth": 2,
            "linecolor": "white",
            "showbackground": true,
            "ticks": "",
            "zerolinecolor": "white"
           },
           "yaxis": {
            "backgroundcolor": "#E5ECF6",
            "gridcolor": "white",
            "gridwidth": 2,
            "linecolor": "white",
            "showbackground": true,
            "ticks": "",
            "zerolinecolor": "white"
           },
           "zaxis": {
            "backgroundcolor": "#E5ECF6",
            "gridcolor": "white",
            "gridwidth": 2,
            "linecolor": "white",
            "showbackground": true,
            "ticks": "",
            "zerolinecolor": "white"
           }
          },
          "shapedefaults": {
           "line": {
            "color": "#2a3f5f"
           }
          },
          "ternary": {
           "aaxis": {
            "gridcolor": "white",
            "linecolor": "white",
            "ticks": ""
           },
           "baxis": {
            "gridcolor": "white",
            "linecolor": "white",
            "ticks": ""
           },
           "bgcolor": "#E5ECF6",
           "caxis": {
            "gridcolor": "white",
            "linecolor": "white",
            "ticks": ""
           }
          },
          "title": {
           "x": 0.05
          },
          "xaxis": {
           "automargin": true,
           "gridcolor": "white",
           "linecolor": "white",
           "ticks": "",
           "title": {
            "standoff": 15
           },
           "zerolinecolor": "white",
           "zerolinewidth": 2
          },
          "yaxis": {
           "automargin": true,
           "gridcolor": "white",
           "linecolor": "white",
           "ticks": "",
           "title": {
            "standoff": 15
           },
           "zerolinecolor": "white",
           "zerolinewidth": 2
          }
         }
        }
       }
      },
      "text/html": [
       "<div>                            <div id=\"614c8239-7109-4819-a0a2-9659695bc694\" class=\"plotly-graph-div\" style=\"height:525px; width:100%;\"></div>            <script type=\"text/javascript\">                require([\"plotly\"], function(Plotly) {                    window.PLOTLYENV=window.PLOTLYENV || {};                                    if (document.getElementById(\"614c8239-7109-4819-a0a2-9659695bc694\")) {                    Plotly.newPlot(                        \"614c8239-7109-4819-a0a2-9659695bc694\",                        [{\"domain\":{\"x\":[0.0,1.0],\"y\":[0.0,1.0]},\"hovertemplate\":\"emoji=%{label}<br>count=%{value}<extra></extra>\",\"labels\":[\"\\u25aa\\ufe0f\",\"\\ud83d\\ude02\",\"\\ud83d\\ude4f\",\"\\ud83d\\ude0a\",\"\\ud83d\\udc4d\",\"\\u2757\",\"\\ud83e\\udd70\",\"\\ud83d\\ude2d\",\"\\ud83d\\ude4c\\ud83c\\udffd\",\"\\u2764\\ufe0f\",\"\\ud83e\\udd23\",\"\\ud83d\\ude12\",\"\\ud83d\\ude2e\",\"\\ud83d\\ude40\",\"\\ud83d\\ude01\",\"\\ud83d\\ude47\\ud83c\\udffb\\u200d\\u2640\\ufe0f\",\"\\ud83d\\udc46\\ud83c\\udfff\",\"\\ud83e\\udd2d\",\"\\u2665\\ufe0f\",\"\\ud83e\\udd17\",\"\\ud83d\\ude00\",\"\\ud83d\\ude0f\",\"\\ud83d\\ude4f\\ud83c\\udffd\",\"\\ud83e\\udd7a\",\"\\ud83e\\udd73\",\"\\u2728\",\"\\u2705\",\"\\ud83c\\udfc3\\u200d\\u2640\\ufe0f\",\"\\ud83d\\ude33\",\"\\ud83d\\ude29\",\"\\ud83e\\udd42\",\"\\ud83d\\udd25\",\"\\ud83d\\ude44\",\"\\ud83d\\udc4f\",\"\\ud83d\\ude07\",\"\\u2615\",\"\\u2639\\ufe0f\",\"\\u2615\\ufe0f\",\"\\ud83d\\udcaa\",\"\\ud83c\\udf89\",\"\\ud83c\\udf82\",\"\\ud83d\\ude2b\",\"\\ud83e\\udec2\",\"\\ud83d\\udc46\",\"\\ud83c\\udf1a\",\"\\ud83d\\ude22\",\"\\ud83d\\ude4c\",\"\\u2935\\ufe0f\",\"\\ud83d\\ude05\",\"\\ud83d\\ude4c\\ud83c\\udffb\",\"\\ud83d\\udc4f\\ud83c\\udffc\",\"\\ud83d\\udcaa\\ud83c\\udffe\",\"\\ud83d\\ude48\",\"\\u261d\\ufe0f\",\"\\ud83d\\udc4d\\ud83c\\udffe\",\"\\ud83d\\ude4f\\ud83c\\udffe\",\"\\ud83e\\udee1\",\"\\ud83e\\udd14\",\"\\u25aa\",\"\\ud83d\\ude03\",\"\\ud83d\\ude09\",\"\\ud83e\\udd26\\u200d\\u2640\\ufe0f\",\"\\ud83c\\udf8a\",\"\\ud83d\\udc51\",\"\\ud83c\\udfc3\\u200d\\u2642\\ufe0f\",\"\\ud83c\\udf88\",\"\\ud83e\\udd85\",\"\\ud83d\\ude06\",\"\\ud83d\\ude31\",\"\\ud83d\\udc46\\ud83c\\udffc\",\"\\ud83d\\udc4d\\ud83c\\udffd\",\"\\ud83e\\udd79\",\"\\ud83e\\udd29\",\"\\ud83e\\udd2a\",\"\\ud83d\\ude0b\",\"\\ud83d\\ude46\\u200d\\u2640\\ufe0f\",\"\\ud83d\\ude0e\",\"\\ud83d\\ude47\\ud83c\\udfff\\u200d\\u2642\\ufe0f\",\"\\ud83d\\ude4c\\ud83c\\udfff\",\"\\u261d\\ud83c\\udffc\",\"\\u270b\",\"\\u261d\\ud83c\\udffd\",\"\\ud83d\\udc4d\\ud83c\\udffb\",\"\\ud83d\\ude15\",\"\\u270b\\ud83c\\udffb\",\"\\u270c\\ud83c\\udffb\",\"\\ud83e\\udd37\\u200d\\u2642\\ufe0f\",\"\\u2611\\ufe0f\",\"\\u2714\\ufe0f\",\"\\ud83d\\udc46\\ud83c\\udffd\",\"\\ud83d\\udc46\\ud83c\\udffe\",\"\\ud83d\\udc49\\ud83c\\udffd\",\"\\ud83e\\udd26\\ud83c\\udffd\\u200d\\u2642\\ufe0f\",\"\\ud83d\\ude04\",\"\\ud83e\\udd26\\u200d\\u2642\\ufe0f\",\"\\ud83d\\ude2a\",\"\\ud83d\\udc4b\",\"\\ud83d\\udc68\\ud83c\\udffe\\u200d\\u2708\\ufe0f\",\"\\ud83d\\ude28\",\"\\ud83d\\ude4f\\ud83c\\udffb\",\"\\ud83e\\udd32\",\"\\ud83c\\udf77\",\"\\ud83d\\udfe2\",\"\\ud83e\\udd37\",\"\\ud83e\\udd10\",\"\\ud83e\\udd5b\",\"\\ud83c\\udf7b\",\"\\ud83c\\udf7a\",\"\\ud83e\\uddc9\",\"\\ud83c\\udf79\",\"\\ud83e\\udd43\",\"\\ud83e\\udd26\\ud83c\\udffe\\u200d\\u2642\\ufe0f\",\"\\ud83d\\ude42\",\"\\ud83e\\udd1d\",\"\\ud83e\\udef6\\ud83c\\udfff\",\"\\ud83e\\udddd\\ud83c\\udfff\\u200d\\u2640\\ufe0f\",\"\\ud83d\\udcab\",\"\\ud83d\\udcaa\\ud83c\\udffb\",\"\\ud83d\\udc4f\\ud83c\\udffd\",\"\\ud83d\\ude0d\",\"\\ud83d\\ude18\",\"\\ud83d\\udc8b\",\"\\ud83d\\udcf6\",\"\\ud83d\\udc40\",\"\\ud83d\\ude45\\u200d\\u2642\\ufe0f\",\"\\ud83d\\ude4c\\ud83c\\udffe\"],\"legendgroup\":\"\",\"name\":\"\",\"showlegend\":true,\"values\":[68,56,44,39,28,21,20,18,17,17,17,17,16,15,14,14,13,13,12,12,11,10,10,9,9,9,8,8,7,7,7,6,6,6,6,5,5,5,5,5,5,5,5,4,4,4,4,4,4,4,4,4,4,3,3,3,3,3,3,3,3,3,3,3,3,3,3,2,2,2,2,2,2,2,2,2,2,2,2,1,1,1,1,1,1,1,1,1,1,1,1,1,1,1,1,1,1,1,1,1,1,1,1,1,1,1,1,1,1,1,1,1,1,1,1,1,1,1,1,1,1,1,1,1,1,1],\"type\":\"pie\",\"textinfo\":\"percent+label\",\"textposition\":\"inside\"}],                        {\"template\":{\"data\":{\"histogram2dcontour\":[{\"type\":\"histogram2dcontour\",\"colorbar\":{\"outlinewidth\":0,\"ticks\":\"\"},\"colorscale\":[[0.0,\"#0d0887\"],[0.1111111111111111,\"#46039f\"],[0.2222222222222222,\"#7201a8\"],[0.3333333333333333,\"#9c179e\"],[0.4444444444444444,\"#bd3786\"],[0.5555555555555556,\"#d8576b\"],[0.6666666666666666,\"#ed7953\"],[0.7777777777777778,\"#fb9f3a\"],[0.8888888888888888,\"#fdca26\"],[1.0,\"#f0f921\"]]}],\"choropleth\":[{\"type\":\"choropleth\",\"colorbar\":{\"outlinewidth\":0,\"ticks\":\"\"}}],\"histogram2d\":[{\"type\":\"histogram2d\",\"colorbar\":{\"outlinewidth\":0,\"ticks\":\"\"},\"colorscale\":[[0.0,\"#0d0887\"],[0.1111111111111111,\"#46039f\"],[0.2222222222222222,\"#7201a8\"],[0.3333333333333333,\"#9c179e\"],[0.4444444444444444,\"#bd3786\"],[0.5555555555555556,\"#d8576b\"],[0.6666666666666666,\"#ed7953\"],[0.7777777777777778,\"#fb9f3a\"],[0.8888888888888888,\"#fdca26\"],[1.0,\"#f0f921\"]]}],\"heatmap\":[{\"type\":\"heatmap\",\"colorbar\":{\"outlinewidth\":0,\"ticks\":\"\"},\"colorscale\":[[0.0,\"#0d0887\"],[0.1111111111111111,\"#46039f\"],[0.2222222222222222,\"#7201a8\"],[0.3333333333333333,\"#9c179e\"],[0.4444444444444444,\"#bd3786\"],[0.5555555555555556,\"#d8576b\"],[0.6666666666666666,\"#ed7953\"],[0.7777777777777778,\"#fb9f3a\"],[0.8888888888888888,\"#fdca26\"],[1.0,\"#f0f921\"]]}],\"heatmapgl\":[{\"type\":\"heatmapgl\",\"colorbar\":{\"outlinewidth\":0,\"ticks\":\"\"},\"colorscale\":[[0.0,\"#0d0887\"],[0.1111111111111111,\"#46039f\"],[0.2222222222222222,\"#7201a8\"],[0.3333333333333333,\"#9c179e\"],[0.4444444444444444,\"#bd3786\"],[0.5555555555555556,\"#d8576b\"],[0.6666666666666666,\"#ed7953\"],[0.7777777777777778,\"#fb9f3a\"],[0.8888888888888888,\"#fdca26\"],[1.0,\"#f0f921\"]]}],\"contourcarpet\":[{\"type\":\"contourcarpet\",\"colorbar\":{\"outlinewidth\":0,\"ticks\":\"\"}}],\"contour\":[{\"type\":\"contour\",\"colorbar\":{\"outlinewidth\":0,\"ticks\":\"\"},\"colorscale\":[[0.0,\"#0d0887\"],[0.1111111111111111,\"#46039f\"],[0.2222222222222222,\"#7201a8\"],[0.3333333333333333,\"#9c179e\"],[0.4444444444444444,\"#bd3786\"],[0.5555555555555556,\"#d8576b\"],[0.6666666666666666,\"#ed7953\"],[0.7777777777777778,\"#fb9f3a\"],[0.8888888888888888,\"#fdca26\"],[1.0,\"#f0f921\"]]}],\"surface\":[{\"type\":\"surface\",\"colorbar\":{\"outlinewidth\":0,\"ticks\":\"\"},\"colorscale\":[[0.0,\"#0d0887\"],[0.1111111111111111,\"#46039f\"],[0.2222222222222222,\"#7201a8\"],[0.3333333333333333,\"#9c179e\"],[0.4444444444444444,\"#bd3786\"],[0.5555555555555556,\"#d8576b\"],[0.6666666666666666,\"#ed7953\"],[0.7777777777777778,\"#fb9f3a\"],[0.8888888888888888,\"#fdca26\"],[1.0,\"#f0f921\"]]}],\"mesh3d\":[{\"type\":\"mesh3d\",\"colorbar\":{\"outlinewidth\":0,\"ticks\":\"\"}}],\"scatter\":[{\"fillpattern\":{\"fillmode\":\"overlay\",\"size\":10,\"solidity\":0.2},\"type\":\"scatter\"}],\"parcoords\":[{\"type\":\"parcoords\",\"line\":{\"colorbar\":{\"outlinewidth\":0,\"ticks\":\"\"}}}],\"scatterpolargl\":[{\"type\":\"scatterpolargl\",\"marker\":{\"colorbar\":{\"outlinewidth\":0,\"ticks\":\"\"}}}],\"bar\":[{\"error_x\":{\"color\":\"#2a3f5f\"},\"error_y\":{\"color\":\"#2a3f5f\"},\"marker\":{\"line\":{\"color\":\"#E5ECF6\",\"width\":0.5},\"pattern\":{\"fillmode\":\"overlay\",\"size\":10,\"solidity\":0.2}},\"type\":\"bar\"}],\"scattergeo\":[{\"type\":\"scattergeo\",\"marker\":{\"colorbar\":{\"outlinewidth\":0,\"ticks\":\"\"}}}],\"scatterpolar\":[{\"type\":\"scatterpolar\",\"marker\":{\"colorbar\":{\"outlinewidth\":0,\"ticks\":\"\"}}}],\"histogram\":[{\"marker\":{\"pattern\":{\"fillmode\":\"overlay\",\"size\":10,\"solidity\":0.2}},\"type\":\"histogram\"}],\"scattergl\":[{\"type\":\"scattergl\",\"marker\":{\"colorbar\":{\"outlinewidth\":0,\"ticks\":\"\"}}}],\"scatter3d\":[{\"type\":\"scatter3d\",\"line\":{\"colorbar\":{\"outlinewidth\":0,\"ticks\":\"\"}},\"marker\":{\"colorbar\":{\"outlinewidth\":0,\"ticks\":\"\"}}}],\"scattermapbox\":[{\"type\":\"scattermapbox\",\"marker\":{\"colorbar\":{\"outlinewidth\":0,\"ticks\":\"\"}}}],\"scatterternary\":[{\"type\":\"scatterternary\",\"marker\":{\"colorbar\":{\"outlinewidth\":0,\"ticks\":\"\"}}}],\"scattercarpet\":[{\"type\":\"scattercarpet\",\"marker\":{\"colorbar\":{\"outlinewidth\":0,\"ticks\":\"\"}}}],\"carpet\":[{\"aaxis\":{\"endlinecolor\":\"#2a3f5f\",\"gridcolor\":\"white\",\"linecolor\":\"white\",\"minorgridcolor\":\"white\",\"startlinecolor\":\"#2a3f5f\"},\"baxis\":{\"endlinecolor\":\"#2a3f5f\",\"gridcolor\":\"white\",\"linecolor\":\"white\",\"minorgridcolor\":\"white\",\"startlinecolor\":\"#2a3f5f\"},\"type\":\"carpet\"}],\"table\":[{\"cells\":{\"fill\":{\"color\":\"#EBF0F8\"},\"line\":{\"color\":\"white\"}},\"header\":{\"fill\":{\"color\":\"#C8D4E3\"},\"line\":{\"color\":\"white\"}},\"type\":\"table\"}],\"barpolar\":[{\"marker\":{\"line\":{\"color\":\"#E5ECF6\",\"width\":0.5},\"pattern\":{\"fillmode\":\"overlay\",\"size\":10,\"solidity\":0.2}},\"type\":\"barpolar\"}],\"pie\":[{\"automargin\":true,\"type\":\"pie\"}]},\"layout\":{\"autotypenumbers\":\"strict\",\"colorway\":[\"#636efa\",\"#EF553B\",\"#00cc96\",\"#ab63fa\",\"#FFA15A\",\"#19d3f3\",\"#FF6692\",\"#B6E880\",\"#FF97FF\",\"#FECB52\"],\"font\":{\"color\":\"#2a3f5f\"},\"hovermode\":\"closest\",\"hoverlabel\":{\"align\":\"left\"},\"paper_bgcolor\":\"white\",\"plot_bgcolor\":\"#E5ECF6\",\"polar\":{\"bgcolor\":\"#E5ECF6\",\"angularaxis\":{\"gridcolor\":\"white\",\"linecolor\":\"white\",\"ticks\":\"\"},\"radialaxis\":{\"gridcolor\":\"white\",\"linecolor\":\"white\",\"ticks\":\"\"}},\"ternary\":{\"bgcolor\":\"#E5ECF6\",\"aaxis\":{\"gridcolor\":\"white\",\"linecolor\":\"white\",\"ticks\":\"\"},\"baxis\":{\"gridcolor\":\"white\",\"linecolor\":\"white\",\"ticks\":\"\"},\"caxis\":{\"gridcolor\":\"white\",\"linecolor\":\"white\",\"ticks\":\"\"}},\"coloraxis\":{\"colorbar\":{\"outlinewidth\":0,\"ticks\":\"\"}},\"colorscale\":{\"sequential\":[[0.0,\"#0d0887\"],[0.1111111111111111,\"#46039f\"],[0.2222222222222222,\"#7201a8\"],[0.3333333333333333,\"#9c179e\"],[0.4444444444444444,\"#bd3786\"],[0.5555555555555556,\"#d8576b\"],[0.6666666666666666,\"#ed7953\"],[0.7777777777777778,\"#fb9f3a\"],[0.8888888888888888,\"#fdca26\"],[1.0,\"#f0f921\"]],\"sequentialminus\":[[0.0,\"#0d0887\"],[0.1111111111111111,\"#46039f\"],[0.2222222222222222,\"#7201a8\"],[0.3333333333333333,\"#9c179e\"],[0.4444444444444444,\"#bd3786\"],[0.5555555555555556,\"#d8576b\"],[0.6666666666666666,\"#ed7953\"],[0.7777777777777778,\"#fb9f3a\"],[0.8888888888888888,\"#fdca26\"],[1.0,\"#f0f921\"]],\"diverging\":[[0,\"#8e0152\"],[0.1,\"#c51b7d\"],[0.2,\"#de77ae\"],[0.3,\"#f1b6da\"],[0.4,\"#fde0ef\"],[0.5,\"#f7f7f7\"],[0.6,\"#e6f5d0\"],[0.7,\"#b8e186\"],[0.8,\"#7fbc41\"],[0.9,\"#4d9221\"],[1,\"#276419\"]]},\"xaxis\":{\"gridcolor\":\"white\",\"linecolor\":\"white\",\"ticks\":\"\",\"title\":{\"standoff\":15},\"zerolinecolor\":\"white\",\"automargin\":true,\"zerolinewidth\":2},\"yaxis\":{\"gridcolor\":\"white\",\"linecolor\":\"white\",\"ticks\":\"\",\"title\":{\"standoff\":15},\"zerolinecolor\":\"white\",\"automargin\":true,\"zerolinewidth\":2},\"scene\":{\"xaxis\":{\"backgroundcolor\":\"#E5ECF6\",\"gridcolor\":\"white\",\"linecolor\":\"white\",\"showbackground\":true,\"ticks\":\"\",\"zerolinecolor\":\"white\",\"gridwidth\":2},\"yaxis\":{\"backgroundcolor\":\"#E5ECF6\",\"gridcolor\":\"white\",\"linecolor\":\"white\",\"showbackground\":true,\"ticks\":\"\",\"zerolinecolor\":\"white\",\"gridwidth\":2},\"zaxis\":{\"backgroundcolor\":\"#E5ECF6\",\"gridcolor\":\"white\",\"linecolor\":\"white\",\"showbackground\":true,\"ticks\":\"\",\"zerolinecolor\":\"white\",\"gridwidth\":2}},\"shapedefaults\":{\"line\":{\"color\":\"#2a3f5f\"}},\"annotationdefaults\":{\"arrowcolor\":\"#2a3f5f\",\"arrowhead\":0,\"arrowwidth\":1},\"geo\":{\"bgcolor\":\"white\",\"landcolor\":\"#E5ECF6\",\"subunitcolor\":\"white\",\"showland\":true,\"showlakes\":true,\"lakecolor\":\"white\"},\"title\":{\"x\":0.05},\"mapbox\":{\"style\":\"light\"}}},\"legend\":{\"tracegroupgap\":0},\"margin\":{\"t\":60}},                        {\"responsive\": true}                    ).then(function(){\n",
       "                            \n",
       "var gd = document.getElementById('614c8239-7109-4819-a0a2-9659695bc694');\n",
       "var x = new MutationObserver(function (mutations, observer) {{\n",
       "        var display = window.getComputedStyle(gd).display;\n",
       "        if (!display || display === 'none') {{\n",
       "            console.log([gd, 'removed!']);\n",
       "            Plotly.purge(gd);\n",
       "            observer.disconnect();\n",
       "        }}\n",
       "}});\n",
       "\n",
       "// Listen for the removal of the full notebook cells\n",
       "var notebookContainer = gd.closest('#notebook-container');\n",
       "if (notebookContainer) {{\n",
       "    x.observe(notebookContainer, {childList: true});\n",
       "}}\n",
       "\n",
       "// Listen for the clearing of the current output cell\n",
       "var outputEl = gd.closest('.output');\n",
       "if (outputEl) {{\n",
       "    x.observe(outputEl, {childList: true});\n",
       "}}\n",
       "\n",
       "                        })                };                });            </script>        </div>"
      ]
     },
     "metadata": {},
     "output_type": "display_data"
    }
   ],
   "source": [
    "import plotly.express as px\n",
    "fig = px.pie(emoji_df, values='count', names='emoji')\n",
    "fig.update_traces(textposition='inside', textinfo='percent+label')\n",
    "fig.show()"
   ]
  },
  {
   "cell_type": "code",
   "execution_count": 43,
   "metadata": {},
   "outputs": [
    {
     "data": {
      "text/plain": [
       "Text(0, 0.5, 'Time')"
      ]
     },
     "execution_count": 43,
     "metadata": {},
     "output_type": "execute_result"
    },
    {
     "data": {
      "image/png": "[encoded data removed]",
      "text/plain": [
       "<Figure size 432x288 with 1 Axes>"
      ]
     },
     "metadata": {
      "needs_background": "light"
     },
     "output_type": "display_data"
    }
   ],
   "source": [
    "messages_df['Time'].value_counts().head(10).plot.barh() # Top 10 Times of the day at which the most number of messages were sent\n",
    "plt.xlabel('Number of messages')\n",
    "plt.ylabel('Time')"
   ]
  },
  {
   "cell_type": "code",
   "execution_count": 44,
   "metadata": {},
   "outputs": [],
   "source": [
    "messages_df.to_excel(\"GTTPWhatsapp2.xlsx\", index=False)\n"
   ]
  },
  {
   "cell_type": "code",
   "execution_count": null,
   "metadata": {},
   "outputs": [],
   "source": []
  }
 ],
 "metadata": {
  "kernelspec": {
   "display_name": "Python 3 (ipykernel)",
   "language": "python",
   "name": "python3"
  },
  "language_info": {
   "codemirror_mode": {
    "name": "ipython",
    "version": 3
   },
   "file_extension": ".py",
   "mimetype": "text/x-python",
   "name": "python",
   "nbconvert_exporter": "python",
   "pygments_lexer": "ipython3",
   "version": "3.9.7"
  }
 },
 "nbformat": 4,
 "nbformat_minor": 4
}
